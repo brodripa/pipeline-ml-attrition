{
 "cells": [
  {
   "cell_type": "code",
   "execution_count": 1,
   "id": "5zlcWCAhyWti",
   "metadata": {
    "colab": {
     "base_uri": "https://localhost:8080/"
    },
    "executionInfo": {
     "elapsed": 1202,
     "status": "ok",
     "timestamp": 1751925167086,
     "user": {
      "displayName": "Alberto",
      "userId": "12945510763510700659"
     },
     "user_tz": 180
    },
    "id": "5zlcWCAhyWti",
    "outputId": "f643405e-46ba-4813-f093-e658c95805c3"
   },
   "outputs": [],
   "source": [
    "import pandas as pd\n",
    "\n",
    "# Exemplo: se o arquivo estiver na mesma pasta do notebook\n",
    "df = pd.read_csv(\"base.csv\")"
   ]
  },
  {
   "cell_type": "markdown",
   "id": "Gb6J2OVBAryW",
   "metadata": {
    "id": "Gb6J2OVBAryW"
   },
   "source": [
    "# 🛠️ Feature Engineering para Previsão de Attrition\n",
    "\n",
    "Neste notebook, criamos novas variáveis (features) com o objetivo de melhorar a capacidade preditiva dos modelos de machine learning.\n",
    "Cada feature é justificada com base em hipóteses de negócio."
   ]
  },
  {
   "cell_type": "code",
   "execution_count": 2,
   "id": "bfqznVq6AryZ",
   "metadata": {
    "id": "bfqznVq6AryZ"
   },
   "outputs": [],
   "source": [
    "import pandas as pd\n",
    "import numpy as np\n",
    "import seaborn as sns\n",
    "import matplotlib.pyplot as plt\n",
    "\n",
    "# Leitura da base original\n",
    "df = pd.read_csv(\"base.csv\")"
   ]
  },
  {
   "cell_type": "markdown",
   "id": "SiK0Ei6wAryb",
   "metadata": {
    "id": "SiK0Ei6wAryb"
   },
   "source": [
    "## 1. Interações entre Tempo e Experiência"
   ]
  },
  {
   "cell_type": "code",
   "execution_count": 3,
   "id": "scCp_hTiAryc",
   "metadata": {
    "id": "scCp_hTiAryc"
   },
   "outputs": [],
   "source": [
    "# Proporção de tempo no cargo atual\n",
    "# Pode indicar instabilidade ou promoções recentes\n",
    "df['YearsInCurrentRoleRatio'] = df['YearsInCurrentRole'] / (df['YearsAtCompany'] + 1)\n",
    "\n",
    "# Experiência proporcional à idade\n",
    "df['ExperiencePerAge'] = (df['TotalWorkingYears'] + 1) / (df['Age'] + 1)"
   ]
  },
  {
   "cell_type": "markdown",
   "id": "Sc5OyNUVAryd",
   "metadata": {
    "id": "Sc5OyNUVAryd"
   },
   "source": [
    "## 2. Satisfação e Performance Combinadas"
   ]
  },
  {
   "cell_type": "code",
   "execution_count": 4,
   "id": "qZUe0KSzArye",
   "metadata": {
    "id": "qZUe0KSzArye"
   },
   "outputs": [],
   "source": [
    "# Índice geral de satisfação\n",
    "df['OverallSatisfaction'] = df[['JobSatisfaction', 'EnvironmentSatisfaction', 'RelationshipSatisfaction']].mean(axis=1)\n",
    "\n",
    "# Diferença entre satisfação e performance (gap)\n",
    "df['SatisfactionPerformanceGap'] = df['OverallSatisfaction'] - df['PerformanceRating']"
   ]
  },
  {
   "cell_type": "markdown",
   "id": "i6kI9WYPAryf",
   "metadata": {
    "id": "i6kI9WYPAryf"
   },
   "source": [
    "## 3. Tempo de Empresa Relativo"
   ]
  },
  {
   "cell_type": "code",
   "execution_count": 5,
   "id": "vMboHtjwAryh",
   "metadata": {
    "id": "vMboHtjwAryh"
   },
   "outputs": [],
   "source": [
    "# Tempo na empresa em relação à idade\n",
    "df['YearsInCompanyToAge'] = df['YearsAtCompany'] / (df['Age'] + 1)\n",
    "\n",
    "# Tempo sem promoção relativo ao tempo total na empresa\n",
    "df['YearsSincePromotionRatio'] = df['YearsSinceLastPromotion'] / (df['YearsAtCompany'] + 1)\n",
    "\n",
    "# Faixas de tempo de empresa\n",
    "df['TenureBucket'] = pd.cut(\n",
    "    df['YearsAtCompany'],\n",
    "    bins=[-1, 2, 5, 10, 40],\n",
    "    labels=['0-2 anos', '3-5 anos', '6-10 anos', '10+ anos']\n",
    ")"
   ]
  },
  {
   "cell_type": "markdown",
   "id": "AX-tJYLzAryj",
   "metadata": {
    "id": "AX-tJYLzAryj"
   },
   "source": [
    "## 4. Transformações de Variáveis Categóricas"
   ]
  },
  {
   "cell_type": "code",
   "execution_count": 6,
   "id": "TkC4D50hAryk",
   "metadata": {
    "id": "TkC4D50hAryk"
   },
   "outputs": [],
   "source": [
    "# Identifica cargos de gerência ou diretoria\n",
    "df['IsManager'] = df['JobRole'].isin(['Manager', 'Director']).astype(int)\n",
    "\n",
    "# Viaja frequentemente a trabalho\n",
    "df['TravelHighFreq'] = (df['BusinessTravel'] == 'Travel_Frequently').astype(int)\n",
    "\n",
    "# Solteiro e fazendo hora extra (risco potencial)\n",
    "df['IsSingleOverTime'] = ((df['MaritalStatus'] == 'Single') & (df['OverTime'] == 'Yes')).astype(int)"
   ]
  },
  {
   "cell_type": "markdown",
   "id": "soOKoisVAryl",
   "metadata": {
    "id": "soOKoisVAryl"
   },
   "source": [
    "## ✅ Verificação das Novas Features Criadas"
   ]
  },
  {
   "cell_type": "code",
   "execution_count": 7,
   "id": "qlO6t6PBArym",
   "metadata": {
    "colab": {
     "base_uri": "https://localhost:8080/",
     "height": 320
    },
    "executionInfo": {
     "elapsed": 80,
     "status": "ok",
     "timestamp": 1751925167328,
     "user": {
      "displayName": "Alberto",
      "userId": "12945510763510700659"
     },
     "user_tz": 180
    },
    "id": "qlO6t6PBArym",
    "outputId": "cccb0c00-89d9-4350-cafb-05102d2b004a"
   },
   "outputs": [
    {
     "data": {
      "text/html": [
       "<div>\n",
       "<style scoped>\n",
       "    .dataframe tbody tr th:only-of-type {\n",
       "        vertical-align: middle;\n",
       "    }\n",
       "\n",
       "    .dataframe tbody tr th {\n",
       "        vertical-align: top;\n",
       "    }\n",
       "\n",
       "    .dataframe thead th {\n",
       "        text-align: right;\n",
       "    }\n",
       "</style>\n",
       "<table border=\"1\" class=\"dataframe\">\n",
       "  <thead>\n",
       "    <tr style=\"text-align: right;\">\n",
       "      <th></th>\n",
       "      <th>YearsInCurrentRoleRatio</th>\n",
       "      <th>ExperiencePerAge</th>\n",
       "      <th>OverallSatisfaction</th>\n",
       "      <th>SatisfactionPerformanceGap</th>\n",
       "      <th>YearsInCompanyToAge</th>\n",
       "      <th>YearsSincePromotionRatio</th>\n",
       "      <th>IsManager</th>\n",
       "      <th>TravelHighFreq</th>\n",
       "      <th>IsSingleOverTime</th>\n",
       "    </tr>\n",
       "  </thead>\n",
       "  <tbody>\n",
       "    <tr>\n",
       "      <th>count</th>\n",
       "      <td>1470.000000</td>\n",
       "      <td>1470.000000</td>\n",
       "      <td>1470.000000</td>\n",
       "      <td>1470.000000</td>\n",
       "      <td>1470.000000</td>\n",
       "      <td>1470.000000</td>\n",
       "      <td>1470.000000</td>\n",
       "      <td>1470.000000</td>\n",
       "      <td>1470.000000</td>\n",
       "    </tr>\n",
       "    <tr>\n",
       "      <th>mean</th>\n",
       "      <td>0.480701</td>\n",
       "      <td>0.308434</td>\n",
       "      <td>2.720862</td>\n",
       "      <td>-0.432880</td>\n",
       "      <td>0.181909</td>\n",
       "      <td>0.236458</td>\n",
       "      <td>0.069388</td>\n",
       "      <td>0.188435</td>\n",
       "      <td>0.089116</td>\n",
       "    </tr>\n",
       "    <tr>\n",
       "      <th>std</th>\n",
       "      <td>0.274128</td>\n",
       "      <td>0.147040</td>\n",
       "      <td>0.628240</td>\n",
       "      <td>0.734979</td>\n",
       "      <td>0.138538</td>\n",
       "      <td>0.269358</td>\n",
       "      <td>0.254199</td>\n",
       "      <td>0.391193</td>\n",
       "      <td>0.285008</td>\n",
       "    </tr>\n",
       "    <tr>\n",
       "      <th>min</th>\n",
       "      <td>0.000000</td>\n",
       "      <td>0.035714</td>\n",
       "      <td>1.000000</td>\n",
       "      <td>-3.000000</td>\n",
       "      <td>0.000000</td>\n",
       "      <td>0.000000</td>\n",
       "      <td>0.000000</td>\n",
       "      <td>0.000000</td>\n",
       "      <td>0.000000</td>\n",
       "    </tr>\n",
       "    <tr>\n",
       "      <th>25%</th>\n",
       "      <td>0.333333</td>\n",
       "      <td>0.206897</td>\n",
       "      <td>2.333333</td>\n",
       "      <td>-1.000000</td>\n",
       "      <td>0.076923</td>\n",
       "      <td>0.000000</td>\n",
       "      <td>0.000000</td>\n",
       "      <td>0.000000</td>\n",
       "      <td>0.000000</td>\n",
       "    </tr>\n",
       "    <tr>\n",
       "      <th>50%</th>\n",
       "      <td>0.500000</td>\n",
       "      <td>0.285714</td>\n",
       "      <td>2.666667</td>\n",
       "      <td>-0.333333</td>\n",
       "      <td>0.151515</td>\n",
       "      <td>0.142857</td>\n",
       "      <td>0.000000</td>\n",
       "      <td>0.000000</td>\n",
       "      <td>0.000000</td>\n",
       "    </tr>\n",
       "    <tr>\n",
       "      <th>75%</th>\n",
       "      <td>0.666667</td>\n",
       "      <td>0.411765</td>\n",
       "      <td>3.333333</td>\n",
       "      <td>0.000000</td>\n",
       "      <td>0.258065</td>\n",
       "      <td>0.428571</td>\n",
       "      <td>0.000000</td>\n",
       "      <td>0.000000</td>\n",
       "      <td>0.000000</td>\n",
       "    </tr>\n",
       "    <tr>\n",
       "      <th>max</th>\n",
       "      <td>0.882353</td>\n",
       "      <td>0.694915</td>\n",
       "      <td>4.000000</td>\n",
       "      <td>1.000000</td>\n",
       "      <td>0.677966</td>\n",
       "      <td>0.916667</td>\n",
       "      <td>1.000000</td>\n",
       "      <td>1.000000</td>\n",
       "      <td>1.000000</td>\n",
       "    </tr>\n",
       "  </tbody>\n",
       "</table>\n",
       "</div>"
      ],
      "text/plain": [
       "       YearsInCurrentRoleRatio  ExperiencePerAge  OverallSatisfaction  \\\n",
       "count              1470.000000       1470.000000          1470.000000   \n",
       "mean                  0.480701          0.308434             2.720862   \n",
       "std                   0.274128          0.147040             0.628240   \n",
       "min                   0.000000          0.035714             1.000000   \n",
       "25%                   0.333333          0.206897             2.333333   \n",
       "50%                   0.500000          0.285714             2.666667   \n",
       "75%                   0.666667          0.411765             3.333333   \n",
       "max                   0.882353          0.694915             4.000000   \n",
       "\n",
       "       SatisfactionPerformanceGap  YearsInCompanyToAge  \\\n",
       "count                 1470.000000          1470.000000   \n",
       "mean                    -0.432880             0.181909   \n",
       "std                      0.734979             0.138538   \n",
       "min                     -3.000000             0.000000   \n",
       "25%                     -1.000000             0.076923   \n",
       "50%                     -0.333333             0.151515   \n",
       "75%                      0.000000             0.258065   \n",
       "max                      1.000000             0.677966   \n",
       "\n",
       "       YearsSincePromotionRatio    IsManager  TravelHighFreq  IsSingleOverTime  \n",
       "count               1470.000000  1470.000000     1470.000000       1470.000000  \n",
       "mean                   0.236458     0.069388        0.188435          0.089116  \n",
       "std                    0.269358     0.254199        0.391193          0.285008  \n",
       "min                    0.000000     0.000000        0.000000          0.000000  \n",
       "25%                    0.000000     0.000000        0.000000          0.000000  \n",
       "50%                    0.142857     0.000000        0.000000          0.000000  \n",
       "75%                    0.428571     0.000000        0.000000          0.000000  \n",
       "max                    0.916667     1.000000        1.000000          1.000000  "
      ]
     },
     "execution_count": 7,
     "metadata": {},
     "output_type": "execute_result"
    }
   ],
   "source": [
    "# Visualizar as 10 novas colunas\n",
    "novas_colunas = ['YearsInCurrentRoleRatio', 'ExperiencePerAge', 'OverallSatisfaction',\n",
    "                 'SatisfactionPerformanceGap', 'YearsInCompanyToAge', 'YearsSincePromotionRatio',\n",
    "                 'IsManager', 'TravelHighFreq', 'IsSingleOverTime', 'TenureBucket']\n",
    "df[novas_colunas].describe()"
   ]
  },
  {
   "cell_type": "markdown",
   "id": "uE6eQ9lmAry5",
   "metadata": {
    "id": "uE6eQ9lmAry5"
   },
   "source": [
    "## 🔍 Visualização de Impacto: Exemplos"
   ]
  },
  {
   "cell_type": "code",
   "execution_count": 8,
   "id": "djtw-AWU4-Ek",
   "metadata": {
    "colab": {
     "base_uri": "https://localhost:8080/",
     "height": 472
    },
    "executionInfo": {
     "elapsed": 175,
     "status": "ok",
     "timestamp": 1751925497424,
     "user": {
      "displayName": "Alberto",
      "userId": "12945510763510700659"
     },
     "user_tz": 180
    },
    "id": "djtw-AWU4-Ek",
    "outputId": "c0658162-87e0-486f-93b0-9d277cb9c5a6"
   },
   "outputs": [
    {
     "data": {
      "image/png": "[encoded data removed]",
      "text/plain": [
       "<Figure size 640x480 with 1 Axes>"
      ]
     },
     "metadata": {},
     "output_type": "display_data"
    }
   ],
   "source": [
    "sns.boxplot(x='Attrition', y='YearsInCurrentRoleRatio', data=df)\n",
    "plt.title('Years In Current Role Ratio vs Attrition')\n",
    "plt.show()"
   ]
  },
  {
   "cell_type": "code",
   "execution_count": 9,
   "id": "ImuOaIJF4hDn",
   "metadata": {
    "colab": {
     "base_uri": "https://localhost:8080/",
     "height": 472
    },
    "executionInfo": {
     "elapsed": 165,
     "status": "ok",
     "timestamp": 1751925340962,
     "user": {
      "displayName": "Alberto",
      "userId": "12945510763510700659"
     },
     "user_tz": 180
    },
    "id": "ImuOaIJF4hDn",
    "outputId": "a16970a2-49fa-4831-e4a1-fb2fdbadc9d0"
   },
   "outputs": [
    {
     "data": {
      "image/png": "[encoded data removed]",
      "text/plain": [
       "<Figure size 640x480 with 1 Axes>"
      ]
     },
     "metadata": {},
     "output_type": "display_data"
    }
   ],
   "source": [
    "sns.boxplot(x='Attrition', y='TenureBucket', data=df)\n",
    "plt.title('Tenur eBucket vs Attrition')\n",
    "plt.show()"
   ]
  },
  {
   "cell_type": "code",
   "execution_count": 10,
   "id": "rfpk9M7lAry6",
   "metadata": {
    "colab": {
     "base_uri": "https://localhost:8080/",
     "height": 472
    },
    "executionInfo": {
     "elapsed": 19,
     "status": "ok",
     "timestamp": 1751925167341,
     "user": {
      "displayName": "Alberto",
      "userId": "12945510763510700659"
     },
     "user_tz": 180
    },
    "id": "rfpk9M7lAry6",
    "outputId": "f400a20b-084e-4c7a-da77-75cbaeebd3bb"
   },
   "outputs": [
    {
     "data": {
      "image/png": "[encoded data removed]",
      "text/plain": [
       "<Figure size 640x480 with 1 Axes>"
      ]
     },
     "metadata": {},
     "output_type": "display_data"
    }
   ],
   "source": [
    "sns.boxplot(x='Attrition', y='OverallSatisfaction', data=df)\n",
    "plt.title('Overall Satisfaction vs Attrition')\n",
    "plt.show()"
   ]
  },
  {
   "cell_type": "markdown",
   "id": "ce573a16",
   "metadata": {
    "id": "ce573a16"
   },
   "source": [
    "--========================================================================================================"
   ]
  },
  {
   "cell_type": "markdown",
   "id": "0837a8a7",
   "metadata": {
    "id": "0837a8a7"
   },
   "source": []
  }
 ],
 "metadata": {
  "colab": {
   "provenance": []
  },
  "kernelspec": {
   "display_name": "Python 3",
   "language": "python",
   "name": "python3"
  },
  "language_info": {
   "codemirror_mode": {
    "name": "ipython",
    "version": 3
   },
   "file_extension": ".py",
   "mimetype": "text/x-python",
   "name": "python",
   "nbconvert_exporter": "python",
   "pygments_lexer": "ipython3",
   "version": "3.12.4"
  }
 },
 "nbformat": 4,
 "nbformat_minor": 5
}
