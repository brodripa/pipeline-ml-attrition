{
 "cells": [
  {
   "cell_type": "code",
   "execution_count": 41,
   "id": "hhnppllsyXzA",
   "metadata": {
    "colab": {
     "base_uri": "https://localhost:8080/"
    },
    "executionInfo": {
     "elapsed": 570,
     "status": "ok",
     "timestamp": 1751970979439,
     "user": {
      "displayName": "Alberto",
      "userId": "12945510763510700659"
     },
     "user_tz": 180
    },
    "id": "hhnppllsyXzA",
    "outputId": "222beb80-6656-4a76-8cc3-f0850b31f139"
   },
   "outputs": [
    {
     "name": "stdout",
     "output_type": "stream",
     "text": [
      "Drive already mounted at /content/drive; to attempt to forcibly remount, call drive.mount(\"/content/drive\", force_remount=True).\n"
     ]
    }
   ],
   "source": [
    "# monta o drive\n",
    "from google.colab import drive\n",
    "drive.mount('/content/drive')"
   ]
  },
  {
   "cell_type": "code",
   "execution_count": 42,
   "id": "9ac92e80",
   "metadata": {
    "colab": {
     "base_uri": "https://localhost:8080/"
    },
    "executionInfo": {
     "elapsed": 6633,
     "status": "ok",
     "timestamp": 1751970986064,
     "user": {
      "displayName": "Alberto",
      "userId": "12945510763510700659"
     },
     "user_tz": 180
    },
    "id": "9ac92e80",
    "outputId": "592de44d-e48b-469f-e4a8-c70938d271b9"
   },
   "outputs": [
    {
     "name": "stdout",
     "output_type": "stream",
     "text": [
      "Requirement already satisfied: catboost in /usr/local/lib/python3.11/dist-packages (1.2.8)\n",
      "Requirement already satisfied: graphviz in /usr/local/lib/python3.11/dist-packages (from catboost) (0.21)\n",
      "Requirement already satisfied: matplotlib in /usr/local/lib/python3.11/dist-packages (from catboost) (3.10.0)\n",
      "Requirement already satisfied: numpy<3.0,>=1.16.0 in /usr/local/lib/python3.11/dist-packages (from catboost) (2.0.2)\n",
      "Requirement already satisfied: pandas>=0.24 in /usr/local/lib/python3.11/dist-packages (from catboost) (2.2.2)\n",
      "Requirement already satisfied: scipy in /usr/local/lib/python3.11/dist-packages (from catboost) (1.15.3)\n",
      "Requirement already satisfied: plotly in /usr/local/lib/python3.11/dist-packages (from catboost) (5.24.1)\n",
      "Requirement already satisfied: six in /usr/local/lib/python3.11/dist-packages (from catboost) (1.17.0)\n",
      "Requirement already satisfied: python-dateutil>=2.8.2 in /usr/local/lib/python3.11/dist-packages (from pandas>=0.24->catboost) (2.9.0.post0)\n",
      "Requirement already satisfied: pytz>=2020.1 in /usr/local/lib/python3.11/dist-packages (from pandas>=0.24->catboost) (2025.2)\n",
      "Requirement already satisfied: tzdata>=2022.7 in /usr/local/lib/python3.11/dist-packages (from pandas>=0.24->catboost) (2025.2)\n",
      "Requirement already satisfied: contourpy>=1.0.1 in /usr/local/lib/python3.11/dist-packages (from matplotlib->catboost) (1.3.2)\n",
      "Requirement already satisfied: cycler>=0.10 in /usr/local/lib/python3.11/dist-packages (from matplotlib->catboost) (0.12.1)\n",
      "Requirement already satisfied: fonttools>=4.22.0 in /usr/local/lib/python3.11/dist-packages (from matplotlib->catboost) (4.58.4)\n",
      "Requirement already satisfied: kiwisolver>=1.3.1 in /usr/local/lib/python3.11/dist-packages (from matplotlib->catboost) (1.4.8)\n",
      "Requirement already satisfied: packaging>=20.0 in /usr/local/lib/python3.11/dist-packages (from matplotlib->catboost) (24.2)\n",
      "Requirement already satisfied: pillow>=8 in /usr/local/lib/python3.11/dist-packages (from matplotlib->catboost) (11.2.1)\n",
      "Requirement already satisfied: pyparsing>=2.3.1 in /usr/local/lib/python3.11/dist-packages (from matplotlib->catboost) (3.2.3)\n",
      "Requirement already satisfied: tenacity>=6.2.0 in /usr/local/lib/python3.11/dist-packages (from plotly->catboost) (8.5.0)\n"
     ]
    }
   ],
   "source": [
    "# instala biblioteca\n",
    "!pip install catboost"
   ]
  },
  {
   "cell_type": "markdown",
   "id": "66aa544b",
   "metadata": {
    "id": "66aa544b"
   },
   "source": [
    "# 🤖 MODELOS DE MACHINE LEARNING PARA PREVISÃO DE ATTRITION"
   ]
  },
  {
   "cell_type": "code",
   "execution_count": 43,
   "id": "551ceae5",
   "metadata": {
    "executionInfo": {
     "elapsed": 7,
     "status": "ok",
     "timestamp": 1751970986076,
     "user": {
      "displayName": "Alberto",
      "userId": "12945510763510700659"
     },
     "user_tz": 180
    },
    "id": "551ceae5"
   },
   "outputs": [],
   "source": [
    "# 1. Importando bibliotecas\n",
    "import pandas as pd\n",
    "import numpy as np\n",
    "\n",
    "from sklearn.model_selection import train_test_split\n",
    "from sklearn.preprocessing import LabelEncoder\n",
    "from sklearn.metrics import classification_report, f1_score, recall_score, precision_score\n",
    "\n",
    "from sklearn.linear_model import LogisticRegression\n",
    "from sklearn.ensemble import RandomForestClassifier\n",
    "from xgboost import XGBClassifier\n",
    "from catboost import CatBoostClassifier\n",
    "\n",
    "from imblearn.over_sampling import SMOTE\n",
    "# biblioteca utilizada para normalizar modelo necessário para LogisticRegression\n",
    "from sklearn.preprocessing import StandardScaler"
   ]
  },
  {
   "cell_type": "code",
   "execution_count": 44,
   "id": "dc8dcd6a",
   "metadata": {
    "executionInfo": {
     "elapsed": 51,
     "status": "ok",
     "timestamp": 1751970986137,
     "user": {
      "displayName": "Alberto",
      "userId": "12945510763510700659"
     },
     "user_tz": 180
    },
    "id": "dc8dcd6a"
   },
   "outputs": [],
   "source": [
    "# 2. Leitura dos dados\n",
    "df = pd.read_csv('/content/drive/MyDrive/facul/base/base.csv')"
   ]
  },
  {
   "cell_type": "code",
   "execution_count": 45,
   "id": "0qyzu-GMl7Jp",
   "metadata": {
    "colab": {
     "base_uri": "https://localhost:8080/",
     "height": 325
    },
    "executionInfo": {
     "elapsed": 18,
     "status": "ok",
     "timestamp": 1751970986162,
     "user": {
      "displayName": "Alberto",
      "userId": "12945510763510700659"
     },
     "user_tz": 180
    },
    "id": "0qyzu-GMl7Jp",
    "outputId": "0f4d75d1-5ee8-49c6-a46b-cc331dccae2c"
   },
   "outputs": [
    {
     "data": {
      "application/vnd.google.colaboratory.intrinsic+json": {
       "type": "dataframe"
      },
      "text/html": [
       "\n",
       "  <div id=\"df-3108fc7c-1a9d-4b4e-a5c5-9e0b486e7083\" class=\"colab-df-container\">\n",
       "    <div>\n",
       "<style scoped>\n",
       "    .dataframe tbody tr th:only-of-type {\n",
       "        vertical-align: middle;\n",
       "    }\n",
       "\n",
       "    .dataframe tbody tr th {\n",
       "        vertical-align: top;\n",
       "    }\n",
       "\n",
       "    .dataframe thead th {\n",
       "        text-align: right;\n",
       "    }\n",
       "</style>\n",
       "<table border=\"1\" class=\"dataframe\">\n",
       "  <thead>\n",
       "    <tr style=\"text-align: right;\">\n",
       "      <th></th>\n",
       "      <th>Age</th>\n",
       "      <th>Attrition</th>\n",
       "      <th>BusinessTravel</th>\n",
       "      <th>DailyRate</th>\n",
       "      <th>Department</th>\n",
       "      <th>DistanceFromHome</th>\n",
       "      <th>Education</th>\n",
       "      <th>EducationField</th>\n",
       "      <th>EmployeeCount</th>\n",
       "      <th>EmployeeNumber</th>\n",
       "      <th>...</th>\n",
       "      <th>RelationshipSatisfaction</th>\n",
       "      <th>StandardHours</th>\n",
       "      <th>StockOptionLevel</th>\n",
       "      <th>TotalWorkingYears</th>\n",
       "      <th>TrainingTimesLastYear</th>\n",
       "      <th>WorkLifeBalance</th>\n",
       "      <th>YearsAtCompany</th>\n",
       "      <th>YearsInCurrentRole</th>\n",
       "      <th>YearsSinceLastPromotion</th>\n",
       "      <th>YearsWithCurrManager</th>\n",
       "    </tr>\n",
       "  </thead>\n",
       "  <tbody>\n",
       "    <tr>\n",
       "      <th>0</th>\n",
       "      <td>41</td>\n",
       "      <td>Yes</td>\n",
       "      <td>Travel_Rarely</td>\n",
       "      <td>1102</td>\n",
       "      <td>Sales</td>\n",
       "      <td>1</td>\n",
       "      <td>2</td>\n",
       "      <td>Life Sciences</td>\n",
       "      <td>1</td>\n",
       "      <td>1</td>\n",
       "      <td>...</td>\n",
       "      <td>1</td>\n",
       "      <td>80</td>\n",
       "      <td>0</td>\n",
       "      <td>8</td>\n",
       "      <td>0</td>\n",
       "      <td>1</td>\n",
       "      <td>6</td>\n",
       "      <td>4</td>\n",
       "      <td>0</td>\n",
       "      <td>5</td>\n",
       "    </tr>\n",
       "    <tr>\n",
       "      <th>1</th>\n",
       "      <td>49</td>\n",
       "      <td>No</td>\n",
       "      <td>Travel_Frequently</td>\n",
       "      <td>279</td>\n",
       "      <td>Research &amp; Development</td>\n",
       "      <td>8</td>\n",
       "      <td>1</td>\n",
       "      <td>Life Sciences</td>\n",
       "      <td>1</td>\n",
       "      <td>2</td>\n",
       "      <td>...</td>\n",
       "      <td>4</td>\n",
       "      <td>80</td>\n",
       "      <td>1</td>\n",
       "      <td>10</td>\n",
       "      <td>3</td>\n",
       "      <td>3</td>\n",
       "      <td>10</td>\n",
       "      <td>7</td>\n",
       "      <td>1</td>\n",
       "      <td>7</td>\n",
       "    </tr>\n",
       "    <tr>\n",
       "      <th>2</th>\n",
       "      <td>37</td>\n",
       "      <td>Yes</td>\n",
       "      <td>Travel_Rarely</td>\n",
       "      <td>1373</td>\n",
       "      <td>Research &amp; Development</td>\n",
       "      <td>2</td>\n",
       "      <td>2</td>\n",
       "      <td>Other</td>\n",
       "      <td>1</td>\n",
       "      <td>4</td>\n",
       "      <td>...</td>\n",
       "      <td>2</td>\n",
       "      <td>80</td>\n",
       "      <td>0</td>\n",
       "      <td>7</td>\n",
       "      <td>3</td>\n",
       "      <td>3</td>\n",
       "      <td>0</td>\n",
       "      <td>0</td>\n",
       "      <td>0</td>\n",
       "      <td>0</td>\n",
       "    </tr>\n",
       "    <tr>\n",
       "      <th>3</th>\n",
       "      <td>33</td>\n",
       "      <td>No</td>\n",
       "      <td>Travel_Frequently</td>\n",
       "      <td>1392</td>\n",
       "      <td>Research &amp; Development</td>\n",
       "      <td>3</td>\n",
       "      <td>4</td>\n",
       "      <td>Life Sciences</td>\n",
       "      <td>1</td>\n",
       "      <td>5</td>\n",
       "      <td>...</td>\n",
       "      <td>3</td>\n",
       "      <td>80</td>\n",
       "      <td>0</td>\n",
       "      <td>8</td>\n",
       "      <td>3</td>\n",
       "      <td>3</td>\n",
       "      <td>8</td>\n",
       "      <td>7</td>\n",
       "      <td>3</td>\n",
       "      <td>0</td>\n",
       "    </tr>\n",
       "    <tr>\n",
       "      <th>4</th>\n",
       "      <td>27</td>\n",
       "      <td>No</td>\n",
       "      <td>Travel_Rarely</td>\n",
       "      <td>591</td>\n",
       "      <td>Research &amp; Development</td>\n",
       "      <td>2</td>\n",
       "      <td>1</td>\n",
       "      <td>Medical</td>\n",
       "      <td>1</td>\n",
       "      <td>7</td>\n",
       "      <td>...</td>\n",
       "      <td>4</td>\n",
       "      <td>80</td>\n",
       "      <td>1</td>\n",
       "      <td>6</td>\n",
       "      <td>3</td>\n",
       "      <td>3</td>\n",
       "      <td>2</td>\n",
       "      <td>2</td>\n",
       "      <td>2</td>\n",
       "      <td>2</td>\n",
       "    </tr>\n",
       "  </tbody>\n",
       "</table>\n",
       "<p>5 rows × 35 columns</p>\n",
       "</div>\n",
       "    <div class=\"colab-df-buttons\">\n",
       "\n",
       "  <div class=\"colab-df-container\">\n",
       "    <button class=\"colab-df-convert\" onclick=\"convertToInteractive('df-3108fc7c-1a9d-4b4e-a5c5-9e0b486e7083')\"\n",
       "            title=\"Convert this dataframe to an interactive table.\"\n",
       "            style=\"display:none;\">\n",
       "\n",
       "  <svg xmlns=\"http://www.w3.org/2000/svg\" height=\"24px\" viewBox=\"0 -960 960 960\">\n",
       "    <path d=\"M120-120v-720h720v720H120Zm60-500h600v-160H180v160Zm220 220h160v-160H400v160Zm0 220h160v-160H400v160ZM180-400h160v-160H180v160Zm440 0h160v-160H620v160ZM180-180h160v-160H180v160Zm440 0h160v-160H620v160Z\"/>\n",
       "  </svg>\n",
       "    </button>\n",
       "\n",
       "  <style>\n",
       "    .colab-df-container {\n",
       "      display:flex;\n",
       "      gap: 12px;\n",
       "    }\n",
       "\n",
       "    .colab-df-convert {\n",
       "      background-color: #E8F0FE;\n",
       "      border: none;\n",
       "      border-radius: 50%;\n",
       "      cursor: pointer;\n",
       "      display: none;\n",
       "      fill: #1967D2;\n",
       "      height: 32px;\n",
       "      padding: 0 0 0 0;\n",
       "      width: 32px;\n",
       "    }\n",
       "\n",
       "    .colab-df-convert:hover {\n",
       "      background-color: #E2EBFA;\n",
       "      box-shadow: 0px 1px 2px rgba(60, 64, 67, 0.3), 0px 1px 3px 1px rgba(60, 64, 67, 0.15);\n",
       "      fill: #174EA6;\n",
       "    }\n",
       "\n",
       "    .colab-df-buttons div {\n",
       "      margin-bottom: 4px;\n",
       "    }\n",
       "\n",
       "    [theme=dark] .colab-df-convert {\n",
       "      background-color: #3B4455;\n",
       "      fill: #D2E3FC;\n",
       "    }\n",
       "\n",
       "    [theme=dark] .colab-df-convert:hover {\n",
       "      background-color: #434B5C;\n",
       "      box-shadow: 0px 1px 3px 1px rgba(0, 0, 0, 0.15);\n",
       "      filter: drop-shadow(0px 1px 2px rgba(0, 0, 0, 0.3));\n",
       "      fill: #FFFFFF;\n",
       "    }\n",
       "  </style>\n",
       "\n",
       "    <script>\n",
       "      const buttonEl =\n",
       "        document.querySelector('#df-3108fc7c-1a9d-4b4e-a5c5-9e0b486e7083 button.colab-df-convert');\n",
       "      buttonEl.style.display =\n",
       "        google.colab.kernel.accessAllowed ? 'block' : 'none';\n",
       "\n",
       "      async function convertToInteractive(key) {\n",
       "        const element = document.querySelector('#df-3108fc7c-1a9d-4b4e-a5c5-9e0b486e7083');\n",
       "        const dataTable =\n",
       "          await google.colab.kernel.invokeFunction('convertToInteractive',\n",
       "                                                    [key], {});\n",
       "        if (!dataTable) return;\n",
       "\n",
       "        const docLinkHtml = 'Like what you see? Visit the ' +\n",
       "          '<a target=\"_blank\" href=https://colab.research.google.com/notebooks/data_table.ipynb>data table notebook</a>'\n",
       "          + ' to learn more about interactive tables.';\n",
       "        element.innerHTML = '';\n",
       "        dataTable['output_type'] = 'display_data';\n",
       "        await google.colab.output.renderOutput(dataTable, element);\n",
       "        const docLink = document.createElement('div');\n",
       "        docLink.innerHTML = docLinkHtml;\n",
       "        element.appendChild(docLink);\n",
       "      }\n",
       "    </script>\n",
       "  </div>\n",
       "\n",
       "\n",
       "    <div id=\"df-1e8e610a-ad95-4dbd-a22f-5e74e098477b\">\n",
       "      <button class=\"colab-df-quickchart\" onclick=\"quickchart('df-1e8e610a-ad95-4dbd-a22f-5e74e098477b')\"\n",
       "                title=\"Suggest charts\"\n",
       "                style=\"display:none;\">\n",
       "\n",
       "<svg xmlns=\"http://www.w3.org/2000/svg\" height=\"24px\"viewBox=\"0 0 24 24\"\n",
       "     width=\"24px\">\n",
       "    <g>\n",
       "        <path d=\"M19 3H5c-1.1 0-2 .9-2 2v14c0 1.1.9 2 2 2h14c1.1 0 2-.9 2-2V5c0-1.1-.9-2-2-2zM9 17H7v-7h2v7zm4 0h-2V7h2v10zm4 0h-2v-4h2v4z\"/>\n",
       "    </g>\n",
       "</svg>\n",
       "      </button>\n",
       "\n",
       "<style>\n",
       "  .colab-df-quickchart {\n",
       "      --bg-color: #E8F0FE;\n",
       "      --fill-color: #1967D2;\n",
       "      --hover-bg-color: #E2EBFA;\n",
       "      --hover-fill-color: #174EA6;\n",
       "      --disabled-fill-color: #AAA;\n",
       "      --disabled-bg-color: #DDD;\n",
       "  }\n",
       "\n",
       "  [theme=dark] .colab-df-quickchart {\n",
       "      --bg-color: #3B4455;\n",
       "      --fill-color: #D2E3FC;\n",
       "      --hover-bg-color: #434B5C;\n",
       "      --hover-fill-color: #FFFFFF;\n",
       "      --disabled-bg-color: #3B4455;\n",
       "      --disabled-fill-color: #666;\n",
       "  }\n",
       "\n",
       "  .colab-df-quickchart {\n",
       "    background-color: var(--bg-color);\n",
       "    border: none;\n",
       "    border-radius: 50%;\n",
       "    cursor: pointer;\n",
       "    display: none;\n",
       "    fill: var(--fill-color);\n",
       "    height: 32px;\n",
       "    padding: 0;\n",
       "    width: 32px;\n",
       "  }\n",
       "\n",
       "  .colab-df-quickchart:hover {\n",
       "    background-color: var(--hover-bg-color);\n",
       "    box-shadow: 0 1px 2px rgba(60, 64, 67, 0.3), 0 1px 3px 1px rgba(60, 64, 67, 0.15);\n",
       "    fill: var(--button-hover-fill-color);\n",
       "  }\n",
       "\n",
       "  .colab-df-quickchart-complete:disabled,\n",
       "  .colab-df-quickchart-complete:disabled:hover {\n",
       "    background-color: var(--disabled-bg-color);\n",
       "    fill: var(--disabled-fill-color);\n",
       "    box-shadow: none;\n",
       "  }\n",
       "\n",
       "  .colab-df-spinner {\n",
       "    border: 2px solid var(--fill-color);\n",
       "    border-color: transparent;\n",
       "    border-bottom-color: var(--fill-color);\n",
       "    animation:\n",
       "      spin 1s steps(1) infinite;\n",
       "  }\n",
       "\n",
       "  @keyframes spin {\n",
       "    0% {\n",
       "      border-color: transparent;\n",
       "      border-bottom-color: var(--fill-color);\n",
       "      border-left-color: var(--fill-color);\n",
       "    }\n",
       "    20% {\n",
       "      border-color: transparent;\n",
       "      border-left-color: var(--fill-color);\n",
       "      border-top-color: var(--fill-color);\n",
       "    }\n",
       "    30% {\n",
       "      border-color: transparent;\n",
       "      border-left-color: var(--fill-color);\n",
       "      border-top-color: var(--fill-color);\n",
       "      border-right-color: var(--fill-color);\n",
       "    }\n",
       "    40% {\n",
       "      border-color: transparent;\n",
       "      border-right-color: var(--fill-color);\n",
       "      border-top-color: var(--fill-color);\n",
       "    }\n",
       "    60% {\n",
       "      border-color: transparent;\n",
       "      border-right-color: var(--fill-color);\n",
       "    }\n",
       "    80% {\n",
       "      border-color: transparent;\n",
       "      border-right-color: var(--fill-color);\n",
       "      border-bottom-color: var(--fill-color);\n",
       "    }\n",
       "    90% {\n",
       "      border-color: transparent;\n",
       "      border-bottom-color: var(--fill-color);\n",
       "    }\n",
       "  }\n",
       "</style>\n",
       "\n",
       "      <script>\n",
       "        async function quickchart(key) {\n",
       "          const quickchartButtonEl =\n",
       "            document.querySelector('#' + key + ' button');\n",
       "          quickchartButtonEl.disabled = true;  // To prevent multiple clicks.\n",
       "          quickchartButtonEl.classList.add('colab-df-spinner');\n",
       "          try {\n",
       "            const charts = await google.colab.kernel.invokeFunction(\n",
       "                'suggestCharts', [key], {});\n",
       "          } catch (error) {\n",
       "            console.error('Error during call to suggestCharts:', error);\n",
       "          }\n",
       "          quickchartButtonEl.classList.remove('colab-df-spinner');\n",
       "          quickchartButtonEl.classList.add('colab-df-quickchart-complete');\n",
       "        }\n",
       "        (() => {\n",
       "          let quickchartButtonEl =\n",
       "            document.querySelector('#df-1e8e610a-ad95-4dbd-a22f-5e74e098477b button');\n",
       "          quickchartButtonEl.style.display =\n",
       "            google.colab.kernel.accessAllowed ? 'block' : 'none';\n",
       "        })();\n",
       "      </script>\n",
       "    </div>\n",
       "\n",
       "    </div>\n",
       "  </div>\n"
      ],
      "text/plain": [
       "   Age Attrition     BusinessTravel  DailyRate              Department  \\\n",
       "0   41       Yes      Travel_Rarely       1102                   Sales   \n",
       "1   49        No  Travel_Frequently        279  Research & Development   \n",
       "2   37       Yes      Travel_Rarely       1373  Research & Development   \n",
       "3   33        No  Travel_Frequently       1392  Research & Development   \n",
       "4   27        No      Travel_Rarely        591  Research & Development   \n",
       "\n",
       "   DistanceFromHome  Education EducationField  EmployeeCount  EmployeeNumber  \\\n",
       "0                 1          2  Life Sciences              1               1   \n",
       "1                 8          1  Life Sciences              1               2   \n",
       "2                 2          2          Other              1               4   \n",
       "3                 3          4  Life Sciences              1               5   \n",
       "4                 2          1        Medical              1               7   \n",
       "\n",
       "   ...  RelationshipSatisfaction StandardHours  StockOptionLevel  \\\n",
       "0  ...                         1            80                 0   \n",
       "1  ...                         4            80                 1   \n",
       "2  ...                         2            80                 0   \n",
       "3  ...                         3            80                 0   \n",
       "4  ...                         4            80                 1   \n",
       "\n",
       "   TotalWorkingYears  TrainingTimesLastYear WorkLifeBalance  YearsAtCompany  \\\n",
       "0                  8                      0               1               6   \n",
       "1                 10                      3               3              10   \n",
       "2                  7                      3               3               0   \n",
       "3                  8                      3               3               8   \n",
       "4                  6                      3               3               2   \n",
       "\n",
       "  YearsInCurrentRole  YearsSinceLastPromotion  YearsWithCurrManager  \n",
       "0                  4                        0                     5  \n",
       "1                  7                        1                     7  \n",
       "2                  0                        0                     0  \n",
       "3                  7                        3                     0  \n",
       "4                  2                        2                     2  \n",
       "\n",
       "[5 rows x 35 columns]"
      ]
     },
     "metadata": {},
     "output_type": "display_data"
    }
   ],
   "source": [
    "display(df.head())"
   ]
  },
  {
   "cell_type": "code",
   "execution_count": 46,
   "id": "fd240b76",
   "metadata": {
    "executionInfo": {
     "elapsed": 6,
     "status": "ok",
     "timestamp": 1751970986172,
     "user": {
      "displayName": "Alberto",
      "userId": "12945510763510700659"
     },
     "user_tz": 180
    },
    "id": "fd240b76"
   },
   "outputs": [],
   "source": [
    "# 3. Criação das features engenheiradas (baseado no notebook anterior)\n",
    "df['YearsInCurrentRoleRatio'] = df['YearsInCurrentRole'] / (df['YearsAtCompany'] + 1)\n",
    "df['ExperiencePerAge'] = (df['TotalWorkingYears'] + 1) / (df['Age'] + 1)\n",
    "df['OverallSatisfaction'] = df[['JobSatisfaction', 'EnvironmentSatisfaction', 'RelationshipSatisfaction']].mean(axis=1)\n",
    "df['SatisfactionPerformanceGap'] = df['OverallSatisfaction'] - df['PerformanceRating']\n",
    "df['YearsInCompanyToAge'] = df['YearsAtCompany'] / (df['Age'] + 1)\n",
    "df['YearsSincePromotionRatio'] = df['YearsSinceLastPromotion'] / (df['YearsAtCompany'] + 1)\n",
    "df['IsManager'] = df['JobRole'].isin(['Manager', 'Director']).astype(int)\n",
    "df['TravelHighFreq'] = (df['BusinessTravel'] == 'Travel_Frequently').astype(int)\n",
    "df['IsSingleOverTime'] = ((df['MaritalStatus'] == 'Single') & (df['OverTime'] == 'Yes')).astype(int)"
   ]
  },
  {
   "cell_type": "code",
   "execution_count": 47,
   "id": "9d3dd472",
   "metadata": {
    "executionInfo": {
     "elapsed": 5,
     "status": "ok",
     "timestamp": 1751970986185,
     "user": {
      "displayName": "Alberto",
      "userId": "12945510763510700659"
     },
     "user_tz": 180
    },
    "id": "9d3dd472"
   },
   "outputs": [],
   "source": [
    "# 4. Codificação da variável alvo\n",
    "df['Attrition'] = df['Attrition'].map({'Yes': 1, 'No': 0})"
   ]
  },
  {
   "cell_type": "code",
   "execution_count": 48,
   "id": "5f0b7b49",
   "metadata": {
    "executionInfo": {
     "elapsed": 52,
     "status": "ok",
     "timestamp": 1751970986242,
     "user": {
      "displayName": "Alberto",
      "userId": "12945510763510700659"
     },
     "user_tz": 180
    },
    "id": "5f0b7b49"
   },
   "outputs": [],
   "source": [
    "# 5. Codificação de variáveis categóricas com One-Hot Encoding\n",
    "cat_cols = ['Gender', 'OverTime', 'MaritalStatus', 'BusinessTravel', 'Department', 'JobRole', 'EducationField']\n",
    "df = pd.get_dummies(df, columns=cat_cols, drop_first=True)"
   ]
  },
  {
   "cell_type": "code",
   "execution_count": 49,
   "id": "5210aa81",
   "metadata": {
    "executionInfo": {
     "elapsed": 5,
     "status": "ok",
     "timestamp": 1751970986252,
     "user": {
      "displayName": "Alberto",
      "userId": "12945510763510700659"
     },
     "user_tz": 180
    },
    "id": "5210aa81"
   },
   "outputs": [],
   "source": [
    "# 6. Seleção de variáveis (remoção de colunas irrelevantes)\n",
    "X = df.drop(columns=['Attrition', 'EmployeeNumber', 'EmployeeCount', 'Over18', 'StandardHours'])\n",
    "y = df['Attrition']\n"
   ]
  },
  {
   "cell_type": "code",
   "execution_count": 50,
   "id": "7b27fbc4",
   "metadata": {
    "executionInfo": {
     "elapsed": 5,
     "status": "ok",
     "timestamp": 1751970986265,
     "user": {
      "displayName": "Alberto",
      "userId": "12945510763510700659"
     },
     "user_tz": 180
    },
    "id": "7b27fbc4"
   },
   "outputs": [],
   "source": [
    "# 7. Divisão em treino e teste\n",
    "X_train, X_test, y_train, y_test = train_test_split(X, y, stratify=y, test_size=0.3, random_state=42)"
   ]
  },
  {
   "cell_type": "code",
   "execution_count": 51,
   "id": "PuV_sJO0mGsA",
   "metadata": {
    "executionInfo": {
     "elapsed": 16,
     "status": "ok",
     "timestamp": 1751970986316,
     "user": {
      "displayName": "Alberto",
      "userId": "12945510763510700659"
     },
     "user_tz": 180
    },
    "id": "PuV_sJO0mGsA"
   },
   "outputs": [],
   "source": [
    "# normalizando dados\n",
    "scaler = StandardScaler()\n",
    "X_train_res = scaler.fit_transform(X_train)\n",
    "X_test = scaler.transform(X_test)"
   ]
  },
  {
   "cell_type": "code",
   "execution_count": 52,
   "id": "ad601cb9",
   "metadata": {
    "executionInfo": {
     "elapsed": 59,
     "status": "ok",
     "timestamp": 1751970986389,
     "user": {
      "displayName": "Alberto",
      "userId": "12945510763510700659"
     },
     "user_tz": 180
    },
    "id": "ad601cb9"
   },
   "outputs": [],
   "source": [
    "# 8. Tratamento do desbalanceamento com SMOTE\n",
    "smote = SMOTE(random_state=42)\n",
    "X_train_res, y_train_res = smote.fit_resample(X_train_res, y_train)"
   ]
  },
  {
   "cell_type": "markdown",
   "id": "19373d15",
   "metadata": {
    "id": "19373d15"
   },
   "source": [
    "##### ✔️ Justificativa: A base tem ~16% de casos positivos (Attrition = Yes), por isso aplicamos SMOTE apenas no treino para evitar vazamento de dados e simular a distribuição natural no teste."
   ]
  },
  {
   "cell_type": "code",
   "execution_count": 53,
   "id": "5e4a6930",
   "metadata": {
    "executionInfo": {
     "elapsed": 41440,
     "status": "ok",
     "timestamp": 1751971027835,
     "user": {
      "displayName": "Alberto",
      "userId": "12945510763510700659"
     },
     "user_tz": 180
    },
    "id": "5e4a6930"
   },
   "outputs": [],
   "source": [
    "# 9. Treinamento de 4 modelos distintos\n",
    "models = {\n",
    "    \"Logistic Regression\": LogisticRegression(max_iter=1000),\n",
    "    \"Random Forest\": RandomForestClassifier(n_estimators=100, random_state=42), # 100 numero de arvores\n",
    "    \"XGBoost\": XGBClassifier(eval_metric='logloss'),\n",
    "    \"CatBoost\": CatBoostClassifier(verbose=0)\n",
    "}\n",
    "\n",
    "results = {}\n",
    "\n",
    "for name, model in models.items():\n",
    "    model.fit(X_train_res, y_train_res)\n",
    "    y_pred = model.predict(X_test)\n",
    "\n",
    "    # Armazenar métricas\n",
    "    results[name] = {\n",
    "        \"F1-score\": f1_score(y_test, y_pred),\n",
    "        \"Precision\": precision_score(y_test, y_pred),\n",
    "        \"Recall\": recall_score(y_test, y_pred)\n",
    "    }\n"
   ]
  },
  {
   "cell_type": "code",
   "execution_count": 54,
   "id": "v847_4cykZ-M",
   "metadata": {
    "colab": {
     "base_uri": "https://localhost:8080/"
    },
    "executionInfo": {
     "elapsed": 84,
     "status": "ok",
     "timestamp": 1751971027909,
     "user": {
      "displayName": "Alberto",
      "userId": "12945510763510700659"
     },
     "user_tz": 180
    },
    "id": "v847_4cykZ-M",
    "outputId": "fe6eb397-724d-4888-d317-a6d89328ac27"
   },
   "outputs": [
    {
     "name": "stdout",
     "output_type": "stream",
     "text": [
      "🏆 Comparativo de desempenho dos modelos:\n",
      "                     F1-score  Precision    Recall\n",
      "Logistic Regression  0.478723   0.384615  0.633803\n",
      "CatBoost             0.403846   0.636364  0.295775\n",
      "XGBoost              0.385321   0.552632  0.295775\n",
      "Random Forest        0.336449   0.500000  0.253521\n"
     ]
    }
   ],
   "source": [
    "# 10. Comparação final dos modelos\n",
    "resultados_df = pd.DataFrame(results).T.sort_values(by=\"F1-score\", ascending=False)\n",
    "print(\"🏆 Comparativo de desempenho dos modelos:\")\n",
    "print(resultados_df)"
   ]
  },
  {
   "cell_type": "code",
   "execution_count": null,
   "id": "977fac39",
   "metadata": {},
   "outputs": [
    {
     "ename": "RuntimeError",
     "evalue": "Execute a célula 11 antes para definir X_train_res e y_train_res.",
     "output_type": "error",
     "traceback": [
      "\u001b[31m---------------------------------------------------------------------------\u001b[39m",
      "\u001b[31mNameError\u001b[39m                                 Traceback (most recent call last)",
      "\u001b[36mCell\u001b[39m\u001b[36m \u001b[39m\u001b[32mIn[1]\u001b[39m\u001b[32m, line 13\u001b[39m\n\u001b[32m     12\u001b[39m \u001b[38;5;28;01mtry\u001b[39;00m:\n\u001b[32m---> \u001b[39m\u001b[32m13\u001b[39m     \u001b[43mX_train_res\u001b[49m\n\u001b[32m     14\u001b[39m     y_train_res\n",
      "\u001b[31mNameError\u001b[39m: name 'X_train_res' is not defined",
      "\nDuring handling of the above exception, another exception occurred:\n",
      "\u001b[31mRuntimeError\u001b[39m                              Traceback (most recent call last)",
      "\u001b[36mCell\u001b[39m\u001b[36m \u001b[39m\u001b[32mIn[1]\u001b[39m\u001b[32m, line 16\u001b[39m\n\u001b[32m     14\u001b[39m     y_train_res\n\u001b[32m     15\u001b[39m \u001b[38;5;28;01mexcept\u001b[39;00m \u001b[38;5;167;01mNameError\u001b[39;00m:\n\u001b[32m---> \u001b[39m\u001b[32m16\u001b[39m     \u001b[38;5;28;01mraise\u001b[39;00m \u001b[38;5;167;01mRuntimeError\u001b[39;00m(\u001b[33m\"\u001b[39m\u001b[33mExecute a célula 11 antes para definir X_train_res e y_train_res.\u001b[39m\u001b[33m\"\u001b[39m)\n\u001b[32m     18\u001b[39m \u001b[38;5;66;03m# Faz a busca em grade\u001b[39;00m\n\u001b[32m     19\u001b[39m grid = GridSearchCV(RandomForestClassifier(random_state=\u001b[32m42\u001b[39m), param_grid, cv=\u001b[32m5\u001b[39m, scoring=\u001b[33m'\u001b[39m\u001b[33mf1\u001b[39m\u001b[33m'\u001b[39m)\n",
      "\u001b[31mRuntimeError\u001b[39m: Execute a célula 11 antes para definir X_train_res e y_train_res."
     ]
    }
   ],
   "source": [
    "from sklearn.ensemble import RandomForestClassifier\n",
    "from sklearn.model_selection import GridSearchCV\n",
    "\n",
    "# Defina o grid de parâmetros que deseja testar\n",
    "param_grid = {\n",
    "    'n_estimators': [100, 200],\n",
    "    'max_depth': [None, 10, 20],\n",
    "    'min_samples_split': [2, 5]\n",
    "}\n",
    "\n",
    "# Verifica se X_train_res está definido\n",
    "try:\n",
    "    X_train_res\n",
    "    y_train_res\n",
    "except NameError:\n",
    "    raise RuntimeError(\"Execute a célula 11 antes para definir X_train_res e y_train_res.\")\n",
    "\n",
    "# Faz a busca em grade\n",
    "grid = GridSearchCV(RandomForestClassifier(random_state=42), param_grid, cv=5, scoring='f1')\n",
    "grid.fit(X_train_res, y_train_res)\n",
    "print(\"Melhores parâmetros:\", grid.best_params_)\n",
    "\n",
    "from sklearn.model_selection import cross_val_score"
   ]
  },
  {
   "cell_type": "code",
   "execution_count": null,
   "id": "5fe4861a",
   "metadata": {},
   "outputs": [],
   "source": [
    "scores = cross_val_score(LogisticRegression(max_iter=1000), X_train_res, y_train_res, cv=5, scoring='f1')\n",
    "print(\"F1-score médio (CV):\", scores.mean())\n",
    "\n",
    "from sklearn.ensemble import VotingClassifier"
   ]
  },
  {
   "cell_type": "code",
   "execution_count": null,
   "id": "42fd5e31",
   "metadata": {},
   "outputs": [],
   "source": [
    "ensemble = VotingClassifier(estimators=[\n",
    "    ('lr', LogisticRegression(max_iter=1000)),\n",
    "    ('rf', RandomForestClassifier(n_estimators=100, random_state=42)),\n",
    "    ('xgb', XGBClassifier(eval_metric='logloss'))\n",
    "], voting='soft')\n",
    "\n",
    "ensemble.fit(X_train_res, y_train_res)\n",
    "y_pred_ensemble = ensemble.predict(X_test)\n",
    "print(\"F1-score Ensemble:\", f1_score(y_test, y_pred_ensemble))"
   ]
  },
  {
   "cell_type": "markdown",
   "id": "DiVU6BNbqiJz",
   "metadata": {
    "id": "DiVU6BNbqiJz"
   },
   "source": [
    "🏆 Melhor modelo: Logistic Regression"
   ]
  },
  {
   "cell_type": "markdown",
   "id": "1aeGMIMYqril",
   "metadata": {
    "id": "1aeGMIMYqril"
   },
   "source": [
    "**Justificativas:** <br>\n",
    "<b>1 - Maior F1-score (0.4787):</b>\n",
    "\n",
    "* O F1-score é a média harmônica entre Precisão e Recall, e é ideal quando você quer equilibrar ambos, especialmente em problemas com classes desbalanceadas. Isso indica que o modelo está conseguindo um bom equilíbrio entre acertar positivos e evitar falsos positivos.\n",
    "\n",
    "**2 - Maior Recall (0.6318):**\n",
    "\n",
    "* Isso significa que o modelo está detectando uma grande proporção dos verdadeiros positivos — importante em contextos onde não perder casos positivos é crítico (ex: fraudes, diagnósticos, etc.)."
   ]
  },
  {
   "cell_type": "markdown",
   "id": "dfc69f05",
   "metadata": {
    "id": "dfc69f05"
   },
   "source": []
  }
 ],
 "metadata": {
  "colab": {
   "provenance": []
  },
  "kernelspec": {
   "display_name": "Python 3",
   "language": "python",
   "name": "python3"
  },
  "language_info": {
   "codemirror_mode": {
    "name": "ipython",
    "version": 3
   },
   "file_extension": ".py",
   "mimetype": "text/x-python",
   "name": "python",
   "nbconvert_exporter": "python",
   "pygments_lexer": "ipython3",
   "version": "3.12.4"
  }
 },
 "nbformat": 4,
 "nbformat_minor": 5
}
{"cells":[{"cell_type":"code","source":["# monta o drive\n","from google.colab import drive\n","drive.mount('/content/drive')"],"metadata":{"colab":{"base_uri":"https://localhost:8080/"},"id":"hhnppllsyXzA","executionInfo":{"status":"ok","timestamp":1751970979439,"user_tz":180,"elapsed":570,"user":{"displayName":"Alberto","userId":"12945510763510700659"}},"outputId":"222beb80-6656-4a76-8cc3-f0850b31f139"},"id":"hhnppllsyXzA","execution_count":41,"outputs":[{"output_type":"stream","name":"stdout","text":["Drive already mounted at /content/drive; to attempt to forcibly remount, call drive.mount(\"/content/drive\", force_remount=True).\n"]}]},{"cell_type":"code","metadata":{"colab":{"base_uri":"https://localhost:8080/"},"id":"9ac92e80","executionInfo":{"status":"ok","timestamp":1751970986064,"user_tz":180,"elapsed":6633,"user":{"displayName":"Alberto","userId":"12945510763510700659"}},"outputId":"592de44d-e48b-469f-e4a8-c70938d271b9"},"source":["# instala biblioteca\n","!pip install catboost"],"id":"9ac92e80","execution_count":42,"outputs":[{"output_type":"stream","name":"stdout","text":["Requirement already satisfied: catboost in /usr/local/lib/python3.11/dist-packages (1.2.8)\n","Requirement already satisfied: graphviz in /usr/local/lib/python3.11/dist-packages (from catboost) (0.21)\n","Requirement already satisfied: matplotlib in /usr/local/lib/python3.11/dist-packages (from catboost) (3.10.0)\n","Requirement already satisfied: numpy<3.0,>=1.16.0 in /usr/local/lib/python3.11/dist-packages (from catboost) (2.0.2)\n","Requirement already satisfied: pandas>=0.24 in /usr/local/lib/python3.11/dist-packages (from catboost) (2.2.2)\n","Requirement already satisfied: scipy in /usr/local/lib/python3.11/dist-packages (from catboost) (1.15.3)\n","Requirement already satisfied: plotly in /usr/local/lib/python3.11/dist-packages (from catboost) (5.24.1)\n","Requirement already satisfied: six in /usr/local/lib/python3.11/dist-packages (from catboost) (1.17.0)\n","Requirement already satisfied: python-dateutil>=2.8.2 in /usr/local/lib/python3.11/dist-packages (from pandas>=0.24->catboost) (2.9.0.post0)\n","Requirement already satisfied: pytz>=2020.1 in /usr/local/lib/python3.11/dist-packages (from pandas>=0.24->catboost) (2025.2)\n","Requirement already satisfied: tzdata>=2022.7 in /usr/local/lib/python3.11/dist-packages (from pandas>=0.24->catboost) (2025.2)\n","Requirement already satisfied: contourpy>=1.0.1 in /usr/local/lib/python3.11/dist-packages (from matplotlib->catboost) (1.3.2)\n","Requirement already satisfied: cycler>=0.10 in /usr/local/lib/python3.11/dist-packages (from matplotlib->catboost) (0.12.1)\n","Requirement already satisfied: fonttools>=4.22.0 in /usr/local/lib/python3.11/dist-packages (from matplotlib->catboost) (4.58.4)\n","Requirement already satisfied: kiwisolver>=1.3.1 in /usr/local/lib/python3.11/dist-packages (from matplotlib->catboost) (1.4.8)\n","Requirement already satisfied: packaging>=20.0 in /usr/local/lib/python3.11/dist-packages (from matplotlib->catboost) (24.2)\n","Requirement already satisfied: pillow>=8 in /usr/local/lib/python3.11/dist-packages (from matplotlib->catboost) (11.2.1)\n","Requirement already satisfied: pyparsing>=2.3.1 in /usr/local/lib/python3.11/dist-packages (from matplotlib->catboost) (3.2.3)\n","Requirement already satisfied: tenacity>=6.2.0 in /usr/local/lib/python3.11/dist-packages (from plotly->catboost) (8.5.0)\n"]}]},{"cell_type":"markdown","id":"66aa544b","metadata":{"id":"66aa544b"},"source":["# 🤖 MODELOS DE MACHINE LEARNING PARA PREVISÃO DE ATTRITION"]},{"cell_type":"code","execution_count":43,"id":"551ceae5","metadata":{"id":"551ceae5","executionInfo":{"status":"ok","timestamp":1751970986076,"user_tz":180,"elapsed":7,"user":{"displayName":"Alberto","userId":"12945510763510700659"}}},"outputs":[],"source":["# 1. Importando bibliotecas\n","import pandas as pd\n","import numpy as np\n","\n","from sklearn.model_selection import train_test_split\n","from sklearn.preprocessing import LabelEncoder\n","from sklearn.metrics import classification_report, f1_score, recall_score, precision_score\n","\n","from sklearn.linear_model import LogisticRegression\n","from sklearn.ensemble import RandomForestClassifier\n","from xgboost import XGBClassifier\n","from catboost import CatBoostClassifier\n","\n","from imblearn.over_sampling import SMOTE\n","# biblioteca utilizada para normalizar modelo necessário para LogisticRegression\n","from sklearn.preprocessing import StandardScaler"]},{"cell_type":"code","execution_count":44,"id":"dc8dcd6a","metadata":{"id":"dc8dcd6a","executionInfo":{"status":"ok","timestamp":1751970986137,"user_tz":180,"elapsed":51,"user":{"displayName":"Alberto","userId":"12945510763510700659"}}},"outputs":[],"source":["# 2. Leitura dos dados\n","df = pd.read_csv('/content/drive/MyDrive/facul/base/base.csv')"]},{"cell_type":"code","source":["display(df.head())"],"metadata":{"colab":{"base_uri":"https://localhost:8080/","height":325},"id":"0qyzu-GMl7Jp","executionInfo":{"status":"ok","timestamp":1751970986162,"user_tz":180,"elapsed":18,"user":{"displayName":"Alberto","userId":"12945510763510700659"}},"outputId":"0f4d75d1-5ee8-49c6-a46b-cc331dccae2c"},"id":"0qyzu-GMl7Jp","execution_count":45,"outputs":[{"output_type":"display_data","data":{"text/plain":["   Age Attrition     BusinessTravel  DailyRate              Department  \\\n","0   41       Yes      Travel_Rarely       1102                   Sales   \n","1   49        No  Travel_Frequently        279  Research & Development   \n","2   37       Yes      Travel_Rarely       1373  Research & Development   \n","3   33        No  Travel_Frequently       1392  Research & Development   \n","4   27        No      Travel_Rarely        591  Research & Development   \n","\n","   DistanceFromHome  Education EducationField  EmployeeCount  EmployeeNumber  \\\n","0                 1          2  Life Sciences              1               1   \n","1                 8          1  Life Sciences              1               2   \n","2                 2          2          Other              1               4   \n","3                 3          4  Life Sciences              1               5   \n","4                 2          1        Medical              1               7   \n","\n","   ...  RelationshipSatisfaction StandardHours  StockOptionLevel  \\\n","0  ...                         1            80                 0   \n","1  ...                         4            80                 1   \n","2  ...                         2            80                 0   \n","3  ...                         3            80                 0   \n","4  ...                         4            80                 1   \n","\n","   TotalWorkingYears  TrainingTimesLastYear WorkLifeBalance  YearsAtCompany  \\\n","0                  8                      0               1               6   \n","1                 10                      3               3              10   \n","2                  7                      3               3               0   \n","3                  8                      3               3               8   \n","4                  6                      3               3               2   \n","\n","  YearsInCurrentRole  YearsSinceLastPromotion  YearsWithCurrManager  \n","0                  4                        0                     5  \n","1                  7                        1                     7  \n","2                  0                        0                     0  \n","3                  7                        3                     0  \n","4                  2                        2                     2  \n","\n","[5 rows x 35 columns]"],"text/html":["\n","  <div id=\"df-3108fc7c-1a9d-4b4e-a5c5-9e0b486e7083\" class=\"colab-df-container\">\n","    <div>\n","<style scoped>\n","    .dataframe tbody tr th:only-of-type {\n","        vertical-align: middle;\n","    }\n","\n","    .dataframe tbody tr th {\n","        vertical-align: top;\n","    }\n","\n","    .dataframe thead th {\n","        text-align: right;\n","    }\n","</style>\n","<table border=\"1\" class=\"dataframe\">\n","  <thead>\n","    <tr style=\"text-align: right;\">\n","      <th></th>\n","      <th>Age</th>\n","      <th>Attrition</th>\n","      <th>BusinessTravel</th>\n","      <th>DailyRate</th>\n","      <th>Department</th>\n","      <th>DistanceFromHome</th>\n","      <th>Education</th>\n","      <th>EducationField</th>\n","      <th>EmployeeCount</th>\n","      <th>EmployeeNumber</th>\n","      <th>...</th>\n","      <th>RelationshipSatisfaction</th>\n","      <th>StandardHours</th>\n","      <th>StockOptionLevel</th>\n","      <th>TotalWorkingYears</th>\n","      <th>TrainingTimesLastYear</th>\n","      <th>WorkLifeBalance</th>\n","      <th>YearsAtCompany</th>\n","      <th>YearsInCurrentRole</th>\n","      <th>YearsSinceLastPromotion</th>\n","      <th>YearsWithCurrManager</th>\n","    </tr>\n","  </thead>\n","  <tbody>\n","    <tr>\n","      <th>0</th>\n","      <td>41</td>\n","      <td>Yes</td>\n","      <td>Travel_Rarely</td>\n","      <td>1102</td>\n","      <td>Sales</td>\n","      <td>1</td>\n","      <td>2</td>\n","      <td>Life Sciences</td>\n","      <td>1</td>\n","      <td>1</td>\n","      <td>...</td>\n","      <td>1</td>\n","      <td>80</td>\n","      <td>0</td>\n","      <td>8</td>\n","      <td>0</td>\n","      <td>1</td>\n","      <td>6</td>\n","      <td>4</td>\n","      <td>0</td>\n","      <td>5</td>\n","    </tr>\n","    <tr>\n","      <th>1</th>\n","      <td>49</td>\n","      <td>No</td>\n","      <td>Travel_Frequently</td>\n","      <td>279</td>\n","      <td>Research &amp; Development</td>\n","      <td>8</td>\n","      <td>1</td>\n","      <td>Life Sciences</td>\n","      <td>1</td>\n","      <td>2</td>\n","      <td>...</td>\n","      <td>4</td>\n","      <td>80</td>\n","      <td>1</td>\n","      <td>10</td>\n","      <td>3</td>\n","      <td>3</td>\n","      <td>10</td>\n","      <td>7</td>\n","      <td>1</td>\n","      <td>7</td>\n","    </tr>\n","    <tr>\n","      <th>2</th>\n","      <td>37</td>\n","      <td>Yes</td>\n","      <td>Travel_Rarely</td>\n","      <td>1373</td>\n","      <td>Research &amp; Development</td>\n","      <td>2</td>\n","      <td>2</td>\n","      <td>Other</td>\n","      <td>1</td>\n","      <td>4</td>\n","      <td>...</td>\n","      <td>2</td>\n","      <td>80</td>\n","      <td>0</td>\n","      <td>7</td>\n","      <td>3</td>\n","      <td>3</td>\n","      <td>0</td>\n","      <td>0</td>\n","      <td>0</td>\n","      <td>0</td>\n","    </tr>\n","    <tr>\n","      <th>3</th>\n","      <td>33</td>\n","      <td>No</td>\n","      <td>Travel_Frequently</td>\n","      <td>1392</td>\n","      <td>Research &amp; Development</td>\n","      <td>3</td>\n","      <td>4</td>\n","      <td>Life Sciences</td>\n","      <td>1</td>\n","      <td>5</td>\n","      <td>...</td>\n","      <td>3</td>\n","      <td>80</td>\n","      <td>0</td>\n","      <td>8</td>\n","      <td>3</td>\n","      <td>3</td>\n","      <td>8</td>\n","      <td>7</td>\n","      <td>3</td>\n","      <td>0</td>\n","    </tr>\n","    <tr>\n","      <th>4</th>\n","      <td>27</td>\n","      <td>No</td>\n","      <td>Travel_Rarely</td>\n","      <td>591</td>\n","      <td>Research &amp; Development</td>\n","      <td>2</td>\n","      <td>1</td>\n","      <td>Medical</td>\n","      <td>1</td>\n","      <td>7</td>\n","      <td>...</td>\n","      <td>4</td>\n","      <td>80</td>\n","      <td>1</td>\n","      <td>6</td>\n","      <td>3</td>\n","      <td>3</td>\n","      <td>2</td>\n","      <td>2</td>\n","      <td>2</td>\n","      <td>2</td>\n","    </tr>\n","  </tbody>\n","</table>\n","<p>5 rows × 35 columns</p>\n","</div>\n","    <div class=\"colab-df-buttons\">\n","\n","  <div class=\"colab-df-container\">\n","    <button class=\"colab-df-convert\" onclick=\"convertToInteractive('df-3108fc7c-1a9d-4b4e-a5c5-9e0b486e7083')\"\n","            title=\"Convert this dataframe to an interactive table.\"\n","            style=\"display:none;\">\n","\n","  <svg xmlns=\"http://www.w3.org/2000/svg\" height=\"24px\" viewBox=\"0 -960 960 960\">\n","    <path d=\"M120-120v-720h720v720H120Zm60-500h600v-160H180v160Zm220 220h160v-160H400v160Zm0 220h160v-160H400v160ZM180-400h160v-160H180v160Zm440 0h160v-160H620v160ZM180-180h160v-160H180v160Zm440 0h160v-160H620v160Z\"/>\n","  </svg>\n","    </button>\n","\n","  <style>\n","    .colab-df-container {\n","      display:flex;\n","      gap: 12px;\n","    }\n","\n","    .colab-df-convert {\n","      background-color: #E8F0FE;\n","      border: none;\n","      border-radius: 50%;\n","      cursor: pointer;\n","      display: none;\n","      fill: #1967D2;\n","      height: 32px;\n","      padding: 0 0 0 0;\n","      width: 32px;\n","    }\n","\n","    .colab-df-convert:hover {\n","      background-color: #E2EBFA;\n","      box-shadow: 0px 1px 2px rgba(60, 64, 67, 0.3), 0px 1px 3px 1px rgba(60, 64, 67, 0.15);\n","      fill: #174EA6;\n","    }\n","\n","    .colab-df-buttons div {\n","      margin-bottom: 4px;\n","    }\n","\n","    [theme=dark] .colab-df-convert {\n","      background-color: #3B4455;\n","      fill: #D2E3FC;\n","    }\n","\n","    [theme=dark] .colab-df-convert:hover {\n","      background-color: #434B5C;\n","      box-shadow: 0px 1px 3px 1px rgba(0, 0, 0, 0.15);\n","      filter: drop-shadow(0px 1px 2px rgba(0, 0, 0, 0.3));\n","      fill: #FFFFFF;\n","    }\n","  </style>\n","\n","    <script>\n","      const buttonEl =\n","        document.querySelector('#df-3108fc7c-1a9d-4b4e-a5c5-9e0b486e7083 button.colab-df-convert');\n","      buttonEl.style.display =\n","        google.colab.kernel.accessAllowed ? 'block' : 'none';\n","\n","      async function convertToInteractive(key) {\n","        const element = document.querySelector('#df-3108fc7c-1a9d-4b4e-a5c5-9e0b486e7083');\n","        const dataTable =\n","          await google.colab.kernel.invokeFunction('convertToInteractive',\n","                                                    [key], {});\n","        if (!dataTable) return;\n","\n","        const docLinkHtml = 'Like what you see? Visit the ' +\n","          '<a target=\"_blank\" href=https://colab.research.google.com/notebooks/data_table.ipynb>data table notebook</a>'\n","          + ' to learn more about interactive tables.';\n","        element.innerHTML = '';\n","        dataTable['output_type'] = 'display_data';\n","        await google.colab.output.renderOutput(dataTable, element);\n","        const docLink = document.createElement('div');\n","        docLink.innerHTML = docLinkHtml;\n","        element.appendChild(docLink);\n","      }\n","    </script>\n","  </div>\n","\n","\n","    <div id=\"df-1e8e610a-ad95-4dbd-a22f-5e74e098477b\">\n","      <button class=\"colab-df-quickchart\" onclick=\"quickchart('df-1e8e610a-ad95-4dbd-a22f-5e74e098477b')\"\n","                title=\"Suggest charts\"\n","                style=\"display:none;\">\n","\n","<svg xmlns=\"http://www.w3.org/2000/svg\" height=\"24px\"viewBox=\"0 0 24 24\"\n","     width=\"24px\">\n","    <g>\n","        <path d=\"M19 3H5c-1.1 0-2 .9-2 2v14c0 1.1.9 2 2 2h14c1.1 0 2-.9 2-2V5c0-1.1-.9-2-2-2zM9 17H7v-7h2v7zm4 0h-2V7h2v10zm4 0h-2v-4h2v4z\"/>\n","    </g>\n","</svg>\n","      </button>\n","\n","<style>\n","  .colab-df-quickchart {\n","      --bg-color: #E8F0FE;\n","      --fill-color: #1967D2;\n","      --hover-bg-color: #E2EBFA;\n","      --hover-fill-color: #174EA6;\n","      --disabled-fill-color: #AAA;\n","      --disabled-bg-color: #DDD;\n","  }\n","\n","  [theme=dark] .colab-df-quickchart {\n","      --bg-color: #3B4455;\n","      --fill-color: #D2E3FC;\n","      --hover-bg-color: #434B5C;\n","      --hover-fill-color: #FFFFFF;\n","      --disabled-bg-color: #3B4455;\n","      --disabled-fill-color: #666;\n","  }\n","\n","  .colab-df-quickchart {\n","    background-color: var(--bg-color);\n","    border: none;\n","    border-radius: 50%;\n","    cursor: pointer;\n","    display: none;\n","    fill: var(--fill-color);\n","    height: 32px;\n","    padding: 0;\n","    width: 32px;\n","  }\n","\n","  .colab-df-quickchart:hover {\n","    background-color: var(--hover-bg-color);\n","    box-shadow: 0 1px 2px rgba(60, 64, 67, 0.3), 0 1px 3px 1px rgba(60, 64, 67, 0.15);\n","    fill: var(--button-hover-fill-color);\n","  }\n","\n","  .colab-df-quickchart-complete:disabled,\n","  .colab-df-quickchart-complete:disabled:hover {\n","    background-color: var(--disabled-bg-color);\n","    fill: var(--disabled-fill-color);\n","    box-shadow: none;\n","  }\n","\n","  .colab-df-spinner {\n","    border: 2px solid var(--fill-color);\n","    border-color: transparent;\n","    border-bottom-color: var(--fill-color);\n","    animation:\n","      spin 1s steps(1) infinite;\n","  }\n","\n","  @keyframes spin {\n","    0% {\n","      border-color: transparent;\n","      border-bottom-color: var(--fill-color);\n","      border-left-color: var(--fill-color);\n","    }\n","    20% {\n","      border-color: transparent;\n","      border-left-color: var(--fill-color);\n","      border-top-color: var(--fill-color);\n","    }\n","    30% {\n","      border-color: transparent;\n","      border-left-color: var(--fill-color);\n","      border-top-color: var(--fill-color);\n","      border-right-color: var(--fill-color);\n","    }\n","    40% {\n","      border-color: transparent;\n","      border-right-color: var(--fill-color);\n","      border-top-color: var(--fill-color);\n","    }\n","    60% {\n","      border-color: transparent;\n","      border-right-color: var(--fill-color);\n","    }\n","    80% {\n","      border-color: transparent;\n","      border-right-color: var(--fill-color);\n","      border-bottom-color: var(--fill-color);\n","    }\n","    90% {\n","      border-color: transparent;\n","      border-bottom-color: var(--fill-color);\n","    }\n","  }\n","</style>\n","\n","      <script>\n","        async function quickchart(key) {\n","          const quickchartButtonEl =\n","            document.querySelector('#' + key + ' button');\n","          quickchartButtonEl.disabled = true;  // To prevent multiple clicks.\n","          quickchartButtonEl.classList.add('colab-df-spinner');\n","          try {\n","            const charts = await google.colab.kernel.invokeFunction(\n","                'suggestCharts', [key], {});\n","          } catch (error) {\n","            console.error('Error during call to suggestCharts:', error);\n","          }\n","          quickchartButtonEl.classList.remove('colab-df-spinner');\n","          quickchartButtonEl.classList.add('colab-df-quickchart-complete');\n","        }\n","        (() => {\n","          let quickchartButtonEl =\n","            document.querySelector('#df-1e8e610a-ad95-4dbd-a22f-5e74e098477b button');\n","          quickchartButtonEl.style.display =\n","            google.colab.kernel.accessAllowed ? 'block' : 'none';\n","        })();\n","      </script>\n","    </div>\n","\n","    </div>\n","  </div>\n"],"application/vnd.google.colaboratory.intrinsic+json":{"type":"dataframe"}},"metadata":{}}]},{"cell_type":"code","execution_count":46,"id":"fd240b76","metadata":{"id":"fd240b76","executionInfo":{"status":"ok","timestamp":1751970986172,"user_tz":180,"elapsed":6,"user":{"displayName":"Alberto","userId":"12945510763510700659"}}},"outputs":[],"source":["# 3. Criação das features engenheiradas (baseado no notebook anterior)\n","df['YearsInCurrentRoleRatio'] = df['YearsInCurrentRole'] / (df['YearsAtCompany'] + 1)\n","df['ExperiencePerAge'] = (df['TotalWorkingYears'] + 1) / (df['Age'] + 1)\n","df['OverallSatisfaction'] = df[['JobSatisfaction', 'EnvironmentSatisfaction', 'RelationshipSatisfaction']].mean(axis=1)\n","df['SatisfactionPerformanceGap'] = df['OverallSatisfaction'] - df['PerformanceRating']\n","df['YearsInCompanyToAge'] = df['YearsAtCompany'] / (df['Age'] + 1)\n","df['YearsSincePromotionRatio'] = df['YearsSinceLastPromotion'] / (df['YearsAtCompany'] + 1)\n","df['IsManager'] = df['JobRole'].isin(['Manager', 'Director']).astype(int)\n","df['TravelHighFreq'] = (df['BusinessTravel'] == 'Travel_Frequently').astype(int)\n","df['IsSingleOverTime'] = ((df['MaritalStatus'] == 'Single') & (df['OverTime'] == 'Yes')).astype(int)"]},{"cell_type":"code","execution_count":47,"id":"9d3dd472","metadata":{"id":"9d3dd472","executionInfo":{"status":"ok","timestamp":1751970986185,"user_tz":180,"elapsed":5,"user":{"displayName":"Alberto","userId":"12945510763510700659"}}},"outputs":[],"source":["# 4. Codificação da variável alvo\n","df['Attrition'] = df['Attrition'].map({'Yes': 1, 'No': 0})"]},{"cell_type":"code","execution_count":48,"id":"5f0b7b49","metadata":{"id":"5f0b7b49","executionInfo":{"status":"ok","timestamp":1751970986242,"user_tz":180,"elapsed":52,"user":{"displayName":"Alberto","userId":"12945510763510700659"}}},"outputs":[],"source":["# 5. Codificação de variáveis categóricas com One-Hot Encoding\n","cat_cols = ['Gender', 'OverTime', 'MaritalStatus', 'BusinessTravel', 'Department', 'JobRole', 'EducationField']\n","df = pd.get_dummies(df, columns=cat_cols, drop_first=True)"]},{"cell_type":"code","execution_count":49,"id":"5210aa81","metadata":{"id":"5210aa81","executionInfo":{"status":"ok","timestamp":1751970986252,"user_tz":180,"elapsed":5,"user":{"displayName":"Alberto","userId":"12945510763510700659"}}},"outputs":[],"source":["# 6. Seleção de variáveis (remoção de colunas irrelevantes)\n","X = df.drop(columns=['Attrition', 'EmployeeNumber', 'EmployeeCount', 'Over18', 'StandardHours'])\n","y = df['Attrition']\n"]},{"cell_type":"code","execution_count":50,"id":"7b27fbc4","metadata":{"id":"7b27fbc4","executionInfo":{"status":"ok","timestamp":1751970986265,"user_tz":180,"elapsed":5,"user":{"displayName":"Alberto","userId":"12945510763510700659"}}},"outputs":[],"source":["# 7. Divisão em treino e teste\n","X_train, X_test, y_train, y_test = train_test_split(X, y, stratify=y, test_size=0.3, random_state=42)"]},{"cell_type":"code","source":["# normalizando dados\n","scaler = StandardScaler()\n","X_train_res = scaler.fit_transform(X_train)\n","X_test = scaler.transform(X_test)"],"metadata":{"id":"PuV_sJO0mGsA","executionInfo":{"status":"ok","timestamp":1751970986316,"user_tz":180,"elapsed":16,"user":{"displayName":"Alberto","userId":"12945510763510700659"}}},"id":"PuV_sJO0mGsA","execution_count":51,"outputs":[]},{"cell_type":"code","execution_count":52,"id":"ad601cb9","metadata":{"id":"ad601cb9","executionInfo":{"status":"ok","timestamp":1751970986389,"user_tz":180,"elapsed":59,"user":{"displayName":"Alberto","userId":"12945510763510700659"}}},"outputs":[],"source":["# 8. Tratamento do desbalanceamento com SMOTE\n","smote = SMOTE(random_state=42)\n","X_train_res, y_train_res = smote.fit_resample(X_train_res, y_train)"]},{"cell_type":"markdown","id":"19373d15","metadata":{"id":"19373d15"},"source":["##### ✔️ Justificativa: A base tem ~16% de casos positivos (Attrition = Yes), por isso aplicamos SMOTE apenas no treino para evitar vazamento de dados e simular a distribuição natural no teste."]},{"cell_type":"code","execution_count":53,"id":"5e4a6930","metadata":{"id":"5e4a6930","executionInfo":{"status":"ok","timestamp":1751971027835,"user_tz":180,"elapsed":41440,"user":{"displayName":"Alberto","userId":"12945510763510700659"}}},"outputs":[],"source":["# 9. Treinamento de 4 modelos distintos\n","models = {\n","    \"Logistic Regression\": LogisticRegression(max_iter=1000),\n","    \"Random Forest\": RandomForestClassifier(n_estimators=100, random_state=42), # 100 numero de arvores\n","    \"XGBoost\": XGBClassifier(eval_metric='logloss'),\n","    \"CatBoost\": CatBoostClassifier(verbose=0)\n","}\n","\n","results = {}\n","\n","for name, model in models.items():\n","    model.fit(X_train_res, y_train_res)\n","    y_pred = model.predict(X_test)\n","\n","    # Armazenar métricas\n","    results[name] = {\n","        \"F1-score\": f1_score(y_test, y_pred),\n","        \"Precision\": precision_score(y_test, y_pred),\n","        \"Recall\": recall_score(y_test, y_pred)\n","    }\n"]},{"cell_type":"code","source":["# 10. Comparação final dos modelos\n","resultados_df = pd.DataFrame(results).T.sort_values(by=\"F1-score\", ascending=False)\n","print(\"🏆 Comparativo de desempenho dos modelos:\")\n","print(resultados_df)"],"metadata":{"colab":{"base_uri":"https://localhost:8080/"},"id":"v847_4cykZ-M","executionInfo":{"status":"ok","timestamp":1751971027909,"user_tz":180,"elapsed":84,"user":{"displayName":"Alberto","userId":"12945510763510700659"}},"outputId":"fe6eb397-724d-4888-d317-a6d89328ac27"},"id":"v847_4cykZ-M","execution_count":54,"outputs":[{"output_type":"stream","name":"stdout","text":["🏆 Comparativo de desempenho dos modelos:\n","                     F1-score  Precision    Recall\n","Logistic Regression  0.478723   0.384615  0.633803\n","CatBoost             0.403846   0.636364  0.295775\n","XGBoost              0.385321   0.552632  0.295775\n","Random Forest        0.336449   0.500000  0.253521\n"]}]},{"cell_type":"markdown","source":["🏆 Melhor modelo: Logistic Regression"],"metadata":{"id":"DiVU6BNbqiJz"},"id":"DiVU6BNbqiJz"},{"cell_type":"markdown","source":["**Justificativas:** <br>\n","<b>1 - Maior F1-score (0.4787):</b>\n","\n","* O F1-score é a média harmônica entre Precisão e Recall, e é ideal quando você quer equilibrar ambos, especialmente em problemas com classes desbalanceadas. Isso indica que o modelo está conseguindo um bom equilíbrio entre acertar positivos e evitar falsos positivos.\n","\n","**2 - Maior Recall (0.6318):**\n","\n","* Isso significa que o modelo está detectando uma grande proporção dos verdadeiros positivos — importante em contextos onde não perder casos positivos é crítico (ex: fraudes, diagnósticos, etc.)."],"metadata":{"id":"1aeGMIMYqril"},"id":"1aeGMIMYqril"},{"cell_type":"markdown","id":"dfc69f05","metadata":{"id":"dfc69f05"},"source":[]}],"metadata":{"kernelspec":{"display_name":"base","language":"python","name":"python3"},"language_info":{"codemirror_mode":{"name":"ipython","version":3},"file_extension":".py","mimetype":"text/x-python","name":"python","nbconvert_exporter":"python","pygments_lexer":"ipython3","version":"3.13.5"},"colab":{"provenance":[]}},"nbformat":4,"nbformat_minor":5}
