{
 "cells": [
  {
   "cell_type": "code",
   "execution_count": 6,
   "id": "hhnppllsyXzA",
   "metadata": {
    "colab": {
     "base_uri": "https://localhost:8080/"
    },
    "executionInfo": {
     "elapsed": 570,
     "status": "ok",
     "timestamp": 1751970979439,
     "user": {
      "displayName": "Alberto",
      "userId": "12945510763510700659"
     },
     "user_tz": 180
    },
    "id": "hhnppllsyXzA",
    "outputId": "222beb80-6656-4a76-8cc3-f0850b31f139"
   },
   "outputs": [],
   "source": [
    "import pandas as pd\n",
    "\n",
    "# Exemplo: se o arquivo estiver na mesma pasta do notebook\n",
    "df = pd.read_csv(\"base.csv\")"
   ]
  },
  {
   "cell_type": "markdown",
   "id": "66aa544b",
   "metadata": {
    "id": "66aa544b"
   },
   "source": [
    "# 🤖 MODELOS DE MACHINE LEARNING PARA PREVISÃO DE ATTRITION"
   ]
  },
  {
   "cell_type": "code",
   "execution_count": 7,
   "id": "551ceae5",
   "metadata": {
    "executionInfo": {
     "elapsed": 7,
     "status": "ok",
     "timestamp": 1751970986076,
     "user": {
      "displayName": "Alberto",
      "userId": "12945510763510700659"
     },
     "user_tz": 180
    },
    "id": "551ceae5"
   },
   "outputs": [
    {
     "name": "stdout",
     "output_type": "stream",
     "text": [
      "Requirement already satisfied: imbalanced-learn in c:\\users\\bgbir\\appdata\\local\\programs\\python\\python312\\lib\\site-packages (0.13.0)\n",
      "Requirement already satisfied: numpy<3,>=1.24.3 in c:\\users\\bgbir\\appdata\\local\\programs\\python\\python312\\lib\\site-packages (from imbalanced-learn) (1.26.4)\n",
      "Requirement already satisfied: scipy<2,>=1.10.1 in c:\\users\\bgbir\\appdata\\local\\programs\\python\\python312\\lib\\site-packages (from imbalanced-learn) (1.16.0)\n",
      "Requirement already satisfied: scikit-learn<2,>=1.3.2 in c:\\users\\bgbir\\appdata\\local\\programs\\python\\python312\\lib\\site-packages (from imbalanced-learn) (1.6.1)\n",
      "Requirement already satisfied: sklearn-compat<1,>=0.1 in c:\\users\\bgbir\\appdata\\local\\programs\\python\\python312\\lib\\site-packages (from imbalanced-learn) (0.1.3)\n",
      "Requirement already satisfied: joblib<2,>=1.1.1 in c:\\users\\bgbir\\appdata\\local\\programs\\python\\python312\\lib\\site-packages (from imbalanced-learn) (1.5.1)\n",
      "Requirement already satisfied: threadpoolctl<4,>=2.0.0 in c:\\users\\bgbir\\appdata\\local\\programs\\python\\python312\\lib\\site-packages (from imbalanced-learn) (3.6.0)\n",
      "Note: you may need to restart the kernel to use updated packages.\n",
      "✅ scikit-learn: 1.6.1\n"
     ]
    }
   ],
   "source": [
    "# 1. Importando bibliotecas\n",
    "%pip install imbalanced-learn\n",
    "\n",
    "import pandas as pd\n",
    "import numpy as np\n",
    "import sklearn\n",
    "\n",
    "print(\"✅ scikit-learn:\", sklearn.__version__)\n",
    "\n",
    "from sklearn.model_selection import train_test_split\n",
    "from sklearn.preprocessing import LabelEncoder, StandardScaler\n",
    "from sklearn.metrics import classification_report, f1_score, recall_score, precision_score\n",
    "\n",
    "from sklearn.linear_model import LogisticRegression\n",
    "from sklearn.ensemble import RandomForestClassifier\n",
    "from xgboost import XGBClassifier\n",
    "from catboost import CatBoostClassifier\n"
   ]
  },
  {
   "cell_type": "code",
   "execution_count": 9,
   "id": "dc8dcd6a",
   "metadata": {
    "executionInfo": {
     "elapsed": 51,
     "status": "ok",
     "timestamp": 1751970986137,
     "user": {
      "displayName": "Alberto",
      "userId": "12945510763510700659"
     },
     "user_tz": 180
    },
    "id": "dc8dcd6a"
   },
   "outputs": [],
   "source": [
    "import pandas as pd\n",
    "\n",
    "# Exemplo: se o arquivo estiver na mesma pasta do notebook\n",
    "df = pd.read_csv(\"base.csv\")"
   ]
  },
  {
   "cell_type": "code",
   "execution_count": 10,
   "id": "0qyzu-GMl7Jp",
   "metadata": {
    "colab": {
     "base_uri": "https://localhost:8080/",
     "height": 325
    },
    "executionInfo": {
     "elapsed": 18,
     "status": "ok",
     "timestamp": 1751970986162,
     "user": {
      "displayName": "Alberto",
      "userId": "12945510763510700659"
     },
     "user_tz": 180
    },
    "id": "0qyzu-GMl7Jp",
    "outputId": "0f4d75d1-5ee8-49c6-a46b-cc331dccae2c"
   },
   "outputs": [
    {
     "data": {
      "text/html": [
       "<div>\n",
       "<style scoped>\n",
       "    .dataframe tbody tr th:only-of-type {\n",
       "        vertical-align: middle;\n",
       "    }\n",
       "\n",
       "    .dataframe tbody tr th {\n",
       "        vertical-align: top;\n",
       "    }\n",
       "\n",
       "    .dataframe thead th {\n",
       "        text-align: right;\n",
       "    }\n",
       "</style>\n",
       "<table border=\"1\" class=\"dataframe\">\n",
       "  <thead>\n",
       "    <tr style=\"text-align: right;\">\n",
       "      <th></th>\n",
       "      <th>Age</th>\n",
       "      <th>Attrition</th>\n",
       "      <th>BusinessTravel</th>\n",
       "      <th>DailyRate</th>\n",
       "      <th>Department</th>\n",
       "      <th>DistanceFromHome</th>\n",
       "      <th>Education</th>\n",
       "      <th>EducationField</th>\n",
       "      <th>EmployeeCount</th>\n",
       "      <th>EmployeeNumber</th>\n",
       "      <th>...</th>\n",
       "      <th>RelationshipSatisfaction</th>\n",
       "      <th>StandardHours</th>\n",
       "      <th>StockOptionLevel</th>\n",
       "      <th>TotalWorkingYears</th>\n",
       "      <th>TrainingTimesLastYear</th>\n",
       "      <th>WorkLifeBalance</th>\n",
       "      <th>YearsAtCompany</th>\n",
       "      <th>YearsInCurrentRole</th>\n",
       "      <th>YearsSinceLastPromotion</th>\n",
       "      <th>YearsWithCurrManager</th>\n",
       "    </tr>\n",
       "  </thead>\n",
       "  <tbody>\n",
       "    <tr>\n",
       "      <th>0</th>\n",
       "      <td>41</td>\n",
       "      <td>Yes</td>\n",
       "      <td>Travel_Rarely</td>\n",
       "      <td>1102</td>\n",
       "      <td>Sales</td>\n",
       "      <td>1</td>\n",
       "      <td>2</td>\n",
       "      <td>Life Sciences</td>\n",
       "      <td>1</td>\n",
       "      <td>1</td>\n",
       "      <td>...</td>\n",
       "      <td>1</td>\n",
       "      <td>80</td>\n",
       "      <td>0</td>\n",
       "      <td>8</td>\n",
       "      <td>0</td>\n",
       "      <td>1</td>\n",
       "      <td>6</td>\n",
       "      <td>4</td>\n",
       "      <td>0</td>\n",
       "      <td>5</td>\n",
       "    </tr>\n",
       "    <tr>\n",
       "      <th>1</th>\n",
       "      <td>49</td>\n",
       "      <td>No</td>\n",
       "      <td>Travel_Frequently</td>\n",
       "      <td>279</td>\n",
       "      <td>Research &amp; Development</td>\n",
       "      <td>8</td>\n",
       "      <td>1</td>\n",
       "      <td>Life Sciences</td>\n",
       "      <td>1</td>\n",
       "      <td>2</td>\n",
       "      <td>...</td>\n",
       "      <td>4</td>\n",
       "      <td>80</td>\n",
       "      <td>1</td>\n",
       "      <td>10</td>\n",
       "      <td>3</td>\n",
       "      <td>3</td>\n",
       "      <td>10</td>\n",
       "      <td>7</td>\n",
       "      <td>1</td>\n",
       "      <td>7</td>\n",
       "    </tr>\n",
       "    <tr>\n",
       "      <th>2</th>\n",
       "      <td>37</td>\n",
       "      <td>Yes</td>\n",
       "      <td>Travel_Rarely</td>\n",
       "      <td>1373</td>\n",
       "      <td>Research &amp; Development</td>\n",
       "      <td>2</td>\n",
       "      <td>2</td>\n",
       "      <td>Other</td>\n",
       "      <td>1</td>\n",
       "      <td>4</td>\n",
       "      <td>...</td>\n",
       "      <td>2</td>\n",
       "      <td>80</td>\n",
       "      <td>0</td>\n",
       "      <td>7</td>\n",
       "      <td>3</td>\n",
       "      <td>3</td>\n",
       "      <td>0</td>\n",
       "      <td>0</td>\n",
       "      <td>0</td>\n",
       "      <td>0</td>\n",
       "    </tr>\n",
       "    <tr>\n",
       "      <th>3</th>\n",
       "      <td>33</td>\n",
       "      <td>No</td>\n",
       "      <td>Travel_Frequently</td>\n",
       "      <td>1392</td>\n",
       "      <td>Research &amp; Development</td>\n",
       "      <td>3</td>\n",
       "      <td>4</td>\n",
       "      <td>Life Sciences</td>\n",
       "      <td>1</td>\n",
       "      <td>5</td>\n",
       "      <td>...</td>\n",
       "      <td>3</td>\n",
       "      <td>80</td>\n",
       "      <td>0</td>\n",
       "      <td>8</td>\n",
       "      <td>3</td>\n",
       "      <td>3</td>\n",
       "      <td>8</td>\n",
       "      <td>7</td>\n",
       "      <td>3</td>\n",
       "      <td>0</td>\n",
       "    </tr>\n",
       "    <tr>\n",
       "      <th>4</th>\n",
       "      <td>27</td>\n",
       "      <td>No</td>\n",
       "      <td>Travel_Rarely</td>\n",
       "      <td>591</td>\n",
       "      <td>Research &amp; Development</td>\n",
       "      <td>2</td>\n",
       "      <td>1</td>\n",
       "      <td>Medical</td>\n",
       "      <td>1</td>\n",
       "      <td>7</td>\n",
       "      <td>...</td>\n",
       "      <td>4</td>\n",
       "      <td>80</td>\n",
       "      <td>1</td>\n",
       "      <td>6</td>\n",
       "      <td>3</td>\n",
       "      <td>3</td>\n",
       "      <td>2</td>\n",
       "      <td>2</td>\n",
       "      <td>2</td>\n",
       "      <td>2</td>\n",
       "    </tr>\n",
       "  </tbody>\n",
       "</table>\n",
       "<p>5 rows × 35 columns</p>\n",
       "</div>"
      ],
      "text/plain": [
       "   Age Attrition     BusinessTravel  DailyRate              Department  \\\n",
       "0   41       Yes      Travel_Rarely       1102                   Sales   \n",
       "1   49        No  Travel_Frequently        279  Research & Development   \n",
       "2   37       Yes      Travel_Rarely       1373  Research & Development   \n",
       "3   33        No  Travel_Frequently       1392  Research & Development   \n",
       "4   27        No      Travel_Rarely        591  Research & Development   \n",
       "\n",
       "   DistanceFromHome  Education EducationField  EmployeeCount  EmployeeNumber  \\\n",
       "0                 1          2  Life Sciences              1               1   \n",
       "1                 8          1  Life Sciences              1               2   \n",
       "2                 2          2          Other              1               4   \n",
       "3                 3          4  Life Sciences              1               5   \n",
       "4                 2          1        Medical              1               7   \n",
       "\n",
       "   ...  RelationshipSatisfaction StandardHours  StockOptionLevel  \\\n",
       "0  ...                         1            80                 0   \n",
       "1  ...                         4            80                 1   \n",
       "2  ...                         2            80                 0   \n",
       "3  ...                         3            80                 0   \n",
       "4  ...                         4            80                 1   \n",
       "\n",
       "   TotalWorkingYears  TrainingTimesLastYear WorkLifeBalance  YearsAtCompany  \\\n",
       "0                  8                      0               1               6   \n",
       "1                 10                      3               3              10   \n",
       "2                  7                      3               3               0   \n",
       "3                  8                      3               3               8   \n",
       "4                  6                      3               3               2   \n",
       "\n",
       "  YearsInCurrentRole  YearsSinceLastPromotion  YearsWithCurrManager  \n",
       "0                  4                        0                     5  \n",
       "1                  7                        1                     7  \n",
       "2                  0                        0                     0  \n",
       "3                  7                        3                     0  \n",
       "4                  2                        2                     2  \n",
       "\n",
       "[5 rows x 35 columns]"
      ]
     },
     "metadata": {},
     "output_type": "display_data"
    }
   ],
   "source": [
    "display(df.head())"
   ]
  },
  {
   "cell_type": "code",
   "execution_count": 11,
   "id": "fd240b76",
   "metadata": {
    "executionInfo": {
     "elapsed": 6,
     "status": "ok",
     "timestamp": 1751970986172,
     "user": {
      "displayName": "Alberto",
      "userId": "12945510763510700659"
     },
     "user_tz": 180
    },
    "id": "fd240b76"
   },
   "outputs": [],
   "source": [
    "# 3. Criação das features engenheiradas (baseado no notebook anterior)\n",
    "df['YearsInCurrentRoleRatio'] = df['YearsInCurrentRole'] / (df['YearsAtCompany'] + 1)\n",
    "df['ExperiencePerAge'] = (df['TotalWorkingYears'] + 1) / (df['Age'] + 1)\n",
    "df['OverallSatisfaction'] = df[['JobSatisfaction', 'EnvironmentSatisfaction', 'RelationshipSatisfaction']].mean(axis=1)\n",
    "df['SatisfactionPerformanceGap'] = df['OverallSatisfaction'] - df['PerformanceRating']\n",
    "df['YearsInCompanyToAge'] = df['YearsAtCompany'] / (df['Age'] + 1)\n",
    "df['YearsSincePromotionRatio'] = df['YearsSinceLastPromotion'] / (df['YearsAtCompany'] + 1)\n",
    "df['IsManager'] = df['JobRole'].isin(['Manager', 'Director']).astype(int)\n",
    "df['TravelHighFreq'] = (df['BusinessTravel'] == 'Travel_Frequently').astype(int)\n",
    "df['IsSingleOverTime'] = ((df['MaritalStatus'] == 'Single') & (df['OverTime'] == 'Yes')).astype(int)"
   ]
  },
  {
   "cell_type": "code",
   "execution_count": 12,
   "id": "9d3dd472",
   "metadata": {
    "executionInfo": {
     "elapsed": 5,
     "status": "ok",
     "timestamp": 1751970986185,
     "user": {
      "displayName": "Alberto",
      "userId": "12945510763510700659"
     },
     "user_tz": 180
    },
    "id": "9d3dd472"
   },
   "outputs": [],
   "source": [
    "# 4. Codificação da variável alvo\n",
    "df['Attrition'] = df['Attrition'].map({'Yes': 1, 'No': 0})"
   ]
  },
  {
   "cell_type": "code",
   "execution_count": 13,
   "id": "5f0b7b49",
   "metadata": {
    "executionInfo": {
     "elapsed": 52,
     "status": "ok",
     "timestamp": 1751970986242,
     "user": {
      "displayName": "Alberto",
      "userId": "12945510763510700659"
     },
     "user_tz": 180
    },
    "id": "5f0b7b49"
   },
   "outputs": [],
   "source": [
    "# 5. Codificação de variáveis categóricas com One-Hot Encoding\n",
    "cat_cols = ['Gender', 'OverTime', 'MaritalStatus', 'BusinessTravel', 'Department', 'JobRole', 'EducationField']\n",
    "df = pd.get_dummies(df, columns=cat_cols, drop_first=True)"
   ]
  },
  {
   "cell_type": "code",
   "execution_count": 14,
   "id": "5210aa81",
   "metadata": {
    "executionInfo": {
     "elapsed": 5,
     "status": "ok",
     "timestamp": 1751970986252,
     "user": {
      "displayName": "Alberto",
      "userId": "12945510763510700659"
     },
     "user_tz": 180
    },
    "id": "5210aa81"
   },
   "outputs": [],
   "source": [
    "# 6. Seleção de variáveis (remoção de colunas irrelevantes)\n",
    "X = df.drop(columns=['Attrition', 'EmployeeNumber', 'EmployeeCount', 'Over18', 'StandardHours'])\n",
    "y = df['Attrition']\n"
   ]
  },
  {
   "cell_type": "code",
   "execution_count": 15,
   "id": "7b27fbc4",
   "metadata": {
    "executionInfo": {
     "elapsed": 5,
     "status": "ok",
     "timestamp": 1751970986265,
     "user": {
      "displayName": "Alberto",
      "userId": "12945510763510700659"
     },
     "user_tz": 180
    },
    "id": "7b27fbc4"
   },
   "outputs": [],
   "source": [
    "# 7. Divisão em treino e teste\n",
    "X_train, X_test, y_train, y_test = train_test_split(X, y, stratify=y, test_size=0.3, random_state=42)"
   ]
  },
  {
   "cell_type": "code",
   "execution_count": 16,
   "id": "PuV_sJO0mGsA",
   "metadata": {
    "executionInfo": {
     "elapsed": 16,
     "status": "ok",
     "timestamp": 1751970986316,
     "user": {
      "displayName": "Alberto",
      "userId": "12945510763510700659"
     },
     "user_tz": 180
    },
    "id": "PuV_sJO0mGsA"
   },
   "outputs": [],
   "source": [
    "# normalizando dados\n",
    "scaler = StandardScaler()\n",
    "X_train_res = scaler.fit_transform(X_train)\n",
    "X_test = scaler.transform(X_test)"
   ]
  },
  {
   "cell_type": "code",
   "execution_count": 18,
   "id": "ad601cb9",
   "metadata": {
    "executionInfo": {
     "elapsed": 59,
     "status": "ok",
     "timestamp": 1751970986389,
     "user": {
      "displayName": "Alberto",
      "userId": "12945510763510700659"
     },
     "user_tz": 180
    },
    "id": "ad601cb9"
   },
   "outputs": [
    {
     "name": "stdout",
     "output_type": "stream",
     "text": [
      "Requirement already satisfied: scikit-learn in c:\\users\\bgbir\\appdata\\local\\programs\\python\\python312\\lib\\site-packages (1.3.2)\n",
      "Collecting scikit-learn\n",
      "  Using cached scikit_learn-1.7.0-cp312-cp312-win_amd64.whl.metadata (14 kB)\n",
      "Requirement already satisfied: imbalanced-learn in c:\\users\\bgbir\\appdata\\local\\programs\\python\\python312\\lib\\site-packages (0.11.0)\n",
      "Collecting imbalanced-learn\n",
      "  Using cached imbalanced_learn-0.13.0-py3-none-any.whl.metadata (8.8 kB)\n",
      "Requirement already satisfied: numpy>=1.22.0 in c:\\users\\bgbir\\appdata\\local\\programs\\python\\python312\\lib\\site-packages (from scikit-learn) (1.26.4)\n",
      "Requirement already satisfied: scipy>=1.8.0 in c:\\users\\bgbir\\appdata\\local\\programs\\python\\python312\\lib\\site-packages (from scikit-learn) (1.16.0)\n",
      "Requirement already satisfied: joblib>=1.2.0 in c:\\users\\bgbir\\appdata\\local\\programs\\python\\python312\\lib\\site-packages (from scikit-learn) (1.5.1)\n",
      "Requirement already satisfied: threadpoolctl>=3.1.0 in c:\\users\\bgbir\\appdata\\local\\programs\\python\\python312\\lib\\site-packages (from scikit-learn) (3.6.0)\n",
      "Requirement already satisfied: sklearn-compat<1,>=0.1 in c:\\users\\bgbir\\appdata\\local\\programs\\python\\python312\\lib\\site-packages (from imbalanced-learn) (0.1.3)\n",
      "Collecting scikit-learn\n",
      "  Using cached scikit_learn-1.6.1-cp312-cp312-win_amd64.whl.metadata (15 kB)\n",
      "Using cached imbalanced_learn-0.13.0-py3-none-any.whl (238 kB)\n",
      "Using cached scikit_learn-1.6.1-cp312-cp312-win_amd64.whl (11.1 MB)\n",
      "Installing collected packages: scikit-learn, imbalanced-learn\n",
      "\n",
      "  Attempting uninstall: scikit-learn\n",
      "\n",
      "    Found existing installation: scikit-learn 1.3.2\n",
      "\n",
      "    Uninstalling scikit-learn-1.3.2:\n",
      "\n",
      "      Successfully uninstalled scikit-learn-1.3.2\n",
      "\n",
      "   ---------------------------------------- 0/2 [scikit-learn]\n",
      "   ---------------------------------------- 0/2 [scikit-learn]\n",
      "   ---------------------------------------- 0/2 [scikit-learn]\n",
      "   ---------------------------------------- 0/2 [scikit-learn]\n",
      "   ---------------------------------------- 0/2 [scikit-learn]\n",
      "   ---------------------------------------- 0/2 [scikit-learn]\n",
      "   ---------------------------------------- 0/2 [scikit-learn]\n",
      "   ---------------------------------------- 0/2 [scikit-learn]\n",
      "   ---------------------------------------- 0/2 [scikit-learn]\n",
      "   ---------------------------------------- 0/2 [scikit-learn]\n",
      "   ---------------------------------------- 0/2 [scikit-learn]\n",
      "   ---------------------------------------- 0/2 [scikit-learn]\n",
      "   ---------------------------------------- 0/2 [scikit-learn]\n",
      "   ---------------------------------------- 0/2 [scikit-learn]\n",
      "   ---------------------------------------- 0/2 [scikit-learn]\n",
      "   ---------------------------------------- 0/2 [scikit-learn]\n",
      "   ---------------------------------------- 0/2 [scikit-learn]\n",
      "   ---------------------------------------- 0/2 [scikit-learn]\n",
      "   ---------------------------------------- 0/2 [scikit-learn]\n",
      "   ---------------------------------------- 0/2 [scikit-learn]\n",
      "   ---------------------------------------- 0/2 [scikit-learn]\n",
      "   ---------------------------------------- 0/2 [scikit-learn]\n",
      "   ---------------------------------------- 0/2 [scikit-learn]\n",
      "   ---------------------------------------- 0/2 [scikit-learn]\n",
      "   ---------------------------------------- 0/2 [scikit-learn]\n",
      "   ---------------------------------------- 0/2 [scikit-learn]\n",
      "   ---------------------------------------- 0/2 [scikit-learn]\n",
      "   ---------------------------------------- 0/2 [scikit-learn]\n",
      "   ---------------------------------------- 0/2 [scikit-learn]\n",
      "   ---------------------------------------- 0/2 [scikit-learn]\n",
      "   ---------------------------------------- 0/2 [scikit-learn]\n",
      "   ---------------------------------------- 0/2 [scikit-learn]\n",
      "   ---------------------------------------- 0/2 [scikit-learn]\n",
      "   ---------------------------------------- 0/2 [scikit-learn]\n",
      "   ---------------------------------------- 0/2 [scikit-learn]\n",
      "   ---------------------------------------- 0/2 [scikit-learn]\n",
      "   ---------------------------------------- 0/2 [scikit-learn]\n",
      "   ---------------------------------------- 0/2 [scikit-learn]\n",
      "   ---------------------------------------- 0/2 [scikit-learn]\n",
      "   ---------------------------------------- 0/2 [scikit-learn]\n",
      "   ---------------------------------------- 0/2 [scikit-learn]\n",
      "   ---------------------------------------- 0/2 [scikit-learn]\n",
      "   ---------------------------------------- 0/2 [scikit-learn]\n",
      "   ---------------------------------------- 0/2 [scikit-learn]\n",
      "   ---------------------------------------- 0/2 [scikit-learn]\n",
      "   ---------------------------------------- 0/2 [scikit-learn]\n",
      "   ---------------------------------------- 0/2 [scikit-learn]\n",
      "   ---------------------------------------- 0/2 [scikit-learn]\n",
      "   ---------------------------------------- 0/2 [scikit-learn]\n",
      "   ---------------------------------------- 0/2 [scikit-learn]\n",
      "   ---------------------------------------- 0/2 [scikit-learn]\n",
      "   ---------------------------------------- 0/2 [scikit-learn]\n",
      "   ---------------------------------------- 0/2 [scikit-learn]\n",
      "   ---------------------------------------- 0/2 [scikit-learn]\n",
      "   ---------------------------------------- 0/2 [scikit-learn]\n",
      "   ---------------------------------------- 0/2 [scikit-learn]\n",
      "   ---------------------------------------- 0/2 [scikit-learn]\n",
      "   ---------------------------------------- 0/2 [scikit-learn]\n",
      "   ---------------------------------------- 0/2 [scikit-learn]\n",
      "   ---------------------------------------- 0/2 [scikit-learn]\n",
      "   ---------------------------------------- 0/2 [scikit-learn]\n",
      "   ---------------------------------------- 0/2 [scikit-learn]\n",
      "   ---------------------------------------- 0/2 [scikit-learn]\n",
      "   ---------------------------------------- 0/2 [scikit-learn]\n",
      "   ---------------------------------------- 0/2 [scikit-learn]\n",
      "   ---------------------------------------- 0/2 [scikit-learn]\n",
      "   ---------------------------------------- 0/2 [scikit-learn]\n",
      "   ---------------------------------------- 0/2 [scikit-learn]\n",
      "   ---------------------------------------- 0/2 [scikit-learn]\n",
      "   ---------------------------------------- 0/2 [scikit-learn]\n",
      "   ---------------------------------------- 0/2 [scikit-learn]\n",
      "   ---------------------------------------- 0/2 [scikit-learn]\n",
      "   ---------------------------------------- 0/2 [scikit-learn]\n",
      "   ---------------------------------------- 0/2 [scikit-learn]\n",
      "   ---------------------------------------- 0/2 [scikit-learn]\n",
      "   ---------------------------------------- 0/2 [scikit-learn]\n",
      "   ---------------------------------------- 0/2 [scikit-learn]\n",
      "   ---------------------------------------- 0/2 [scikit-learn]\n",
      "   ---------------------------------------- 0/2 [scikit-learn]\n",
      "   ---------------------------------------- 0/2 [scikit-learn]\n",
      "   ---------------------------------------- 0/2 [scikit-learn]\n",
      "   ---------------------------------------- 0/2 [scikit-learn]\n",
      "  Attempting uninstall: imbalanced-learn\n",
      "   ---------------------------------------- 0/2 [scikit-learn]\n",
      "    Found existing installation: imbalanced-learn 0.11.0\n",
      "   ---------------------------------------- 0/2 [scikit-learn]\n",
      "   -------------------- ------------------- 1/2 [imbalanced-learn]\n",
      "    Uninstalling imbalanced-learn-0.11.0:\n",
      "   -------------------- ------------------- 1/2 [imbalanced-learn]\n",
      "      Successfully uninstalled imbalanced-learn-0.11.0\n",
      "   -------------------- ------------------- 1/2 [imbalanced-learn]\n",
      "   -------------------- ------------------- 1/2 [imbalanced-learn]\n",
      "   -------------------- ------------------- 1/2 [imbalanced-learn]\n",
      "   -------------------- ------------------- 1/2 [imbalanced-learn]\n",
      "   -------------------- ------------------- 1/2 [imbalanced-learn]\n",
      "   -------------------- ------------------- 1/2 [imbalanced-learn]\n",
      "   -------------------- ------------------- 1/2 [imbalanced-learn]\n",
      "   -------------------- ------------------- 1/2 [imbalanced-learn]\n",
      "   -------------------- ------------------- 1/2 [imbalanced-learn]\n",
      "   -------------------- ------------------- 1/2 [imbalanced-learn]\n",
      "   ---------------------------------------- 2/2 [imbalanced-learn]\n",
      "\n",
      "Successfully installed imbalanced-learn-0.13.0 scikit-learn-1.6.1\n",
      "Note: you may need to restart the kernel to use updated packages.\n"
     ]
    }
   ],
   "source": [
    "%pip install --upgrade scikit-learn imbalanced-learn\n",
    "\n",
    "from imblearn.over_sampling import SMOTE\n",
    "\n",
    "# 8. Tratamento do desbalanceamento com SMOTE\n",
    "smote = SMOTE(random_state=42)\n",
    "X_train_res, y_train_res = smote.fit_resample(X_train_res, y_train)"
   ]
  },
  {
   "cell_type": "markdown",
   "id": "19373d15",
   "metadata": {
    "id": "19373d15"
   },
   "source": [
    "##### ✔️ Justificativa: A base tem ~16% de casos positivos (Attrition = Yes), por isso aplicamos SMOTE apenas no treino para evitar vazamento de dados e simular a distribuição natural no teste."
   ]
  },
  {
   "cell_type": "code",
   "execution_count": 20,
   "id": "5e4a6930",
   "metadata": {
    "executionInfo": {
     "elapsed": 41440,
     "status": "ok",
     "timestamp": 1751971027835,
     "user": {
      "displayName": "Alberto",
      "userId": "12945510763510700659"
     },
     "user_tz": 180
    },
    "id": "5e4a6930"
   },
   "outputs": [],
   "source": [
    "# 9. Treinamento de 4 modelos distintos\n",
    "models = {\n",
    "    \"Logistic Regression\": LogisticRegression(max_iter=1000),\n",
    "    \"Random Forest\": RandomForestClassifier(n_estimators=100, random_state=42), # 100 numero de arvores\n",
    "    \"XGBoost\": XGBClassifier(eval_metric='logloss'),\n",
    "    \"CatBoost\": CatBoostClassifier(verbose=0)\n",
    "}\n",
    "\n",
    "results = {}\n",
    "\n",
    "for name, model in models.items():\n",
    "    model.fit(X_train_res, y_train_res)\n",
    "    y_pred = model.predict(X_test)\n",
    "\n",
    "    # Armazenar métricas\n",
    "    results[name] = {\n",
    "        \"F1-score\": f1_score(y_test, y_pred),\n",
    "        \"Precision\": precision_score(y_test, y_pred),\n",
    "        \"Recall\": recall_score(y_test, y_pred)\n",
    "    }\n"
   ]
  },
  {
   "cell_type": "code",
   "execution_count": 21,
   "id": "v847_4cykZ-M",
   "metadata": {
    "colab": {
     "base_uri": "https://localhost:8080/"
    },
    "executionInfo": {
     "elapsed": 84,
     "status": "ok",
     "timestamp": 1751971027909,
     "user": {
      "displayName": "Alberto",
      "userId": "12945510763510700659"
     },
     "user_tz": 180
    },
    "id": "v847_4cykZ-M",
    "outputId": "fe6eb397-724d-4888-d317-a6d89328ac27"
   },
   "outputs": [
    {
     "name": "stdout",
     "output_type": "stream",
     "text": [
      "🏆 Comparativo de desempenho dos modelos:\n",
      "                     F1-score  Precision    Recall\n",
      "Logistic Regression  0.478723   0.384615  0.633803\n",
      "XGBoost              0.385321   0.552632  0.295775\n",
      "CatBoost             0.403846   0.636364  0.295775\n",
      "Random Forest        0.336449   0.500000  0.253521\n"
     ]
    }
   ],
   "source": [
    "# 10. Comparação final dos modelos\n",
    "# Trocando o F1-score por \"Recall\" na ordenação\n",
    "resultados_df = pd.DataFrame(results).T.sort_values(by=\"Recall\", ascending=False)\n",
    "print(\"🏆 Comparativo de desempenho dos modelos:\")\n",
    "print(resultados_df)"
   ]
  },
  {
   "cell_type": "markdown",
   "id": "DiVU6BNbqiJz",
   "metadata": {
    "id": "DiVU6BNbqiJz"
   },
   "source": [
    "🏆 Melhor modelo: Logistic Regression"
   ]
  },
  {
   "cell_type": "markdown",
   "id": "1aeGMIMYqril",
   "metadata": {
    "id": "1aeGMIMYqril"
   },
   "source": [
    "**Justificativas:** <br>\n",
    "<b>1 - Maior F1-score (0.4787):</b>\n",
    "\n",
    "* O F1-score é a média harmônica entre Precisão e Recall, e é ideal quando você quer equilibrar ambos, especialmente em problemas com classes desbalanceadas. Isso indica que o modelo está conseguindo um bom equilíbrio entre acertar positivos e evitar falsos positivos.\n",
    "\n",
    "**2 - Maior Recall (0.6318):**\n",
    "\n",
    "* Isso significa que o modelo está detectando uma grande proporção dos verdadeiros positivos — importante em contextos onde não perder casos positivos é crítico (ex: fraudes, diagnósticos, etc.)."
   ]
  },
  {
   "cell_type": "markdown",
   "id": "dfc69f05",
   "metadata": {
    "id": "dfc69f05"
   },
   "source": []
  },
  {
   "cell_type": "code",
   "execution_count": 22,
   "id": "5c12ef55",
   "metadata": {},
   "outputs": [
    {
     "name": "stdout",
     "output_type": "stream",
     "text": [
      "Melhores parâmetros: {'max_depth': 10, 'min_samples_split': 2, 'n_estimators': 100}\n"
     ]
    }
   ],
   "source": [
    "from sklearn.ensemble import RandomForestClassifier\n",
    "from sklearn.model_selection import GridSearchCV\n",
    "\n",
    "# Defina o grid de parâmetros que deseja testar\n",
    "param_grid = {\n",
    "    'n_estimators': [100, 200],\n",
    "    'max_depth': [None, 10, 20],\n",
    "    'min_samples_split': [2, 5]\n",
    "}\n",
    "\n",
    "# Verifica se X_train_res está definido\n",
    "try:\n",
    "    X_train_res\n",
    "    y_train_res\n",
    "except NameError:\n",
    "    raise RuntimeError(\"Execute a célula 11 antes para definir X_train_res e y_train_res.\")\n",
    "\n",
    "# Faz a busca em grade\n",
    "grid = GridSearchCV(RandomForestClassifier(random_state=42), param_grid, cv=5, scoring='f1')\n",
    "grid.fit(X_train_res, y_train_res)\n",
    "print(\"Melhores parâmetros:\", grid.best_params_)"
   ]
  },
  {
   "cell_type": "code",
   "execution_count": 23,
   "id": "6b938c4d",
   "metadata": {},
   "outputs": [
    {
     "name": "stdout",
     "output_type": "stream",
     "text": [
      "F1-score médio (CV): 0.8179514466152481\n"
     ]
    }
   ],
   "source": [
    "from sklearn.model_selection import cross_val_score\n",
    "\n",
    "scores = cross_val_score(LogisticRegression(max_iter=1000), X_train_res, y_train_res, cv=5, scoring='f1')\n",
    "print(\"F1-score médio (CV):\", scores.mean())"
   ]
  },
  {
   "cell_type": "code",
   "execution_count": 24,
   "id": "a77f0438",
   "metadata": {},
   "outputs": [
    {
     "name": "stdout",
     "output_type": "stream",
     "text": [
      "F1-score Ensemble: 0.46153846153846156\n"
     ]
    }
   ],
   "source": [
    "from sklearn.ensemble import VotingClassifier\n",
    "\n",
    "ensemble = VotingClassifier(estimators=[\n",
    "    ('lr', LogisticRegression(max_iter=1000)),\n",
    "    ('rf', RandomForestClassifier(n_estimators=100, random_state=42)),\n",
    "    ('xgb', XGBClassifier(eval_metric='logloss'))\n",
    "], voting='soft')\n",
    "\n",
    "ensemble.fit(X_train_res, y_train_res)\n",
    "y_pred_ensemble = ensemble.predict(X_test)\n",
    "print(\"F1-score Ensemble:\", f1_score(y_test, y_pred_ensemble))"
   ]
  }
 ],
 "metadata": {
  "colab": {
   "provenance": []
  },
  "kernelspec": {
   "display_name": "Python 3",
   "language": "python",
   "name": "python3"
  },
  "language_info": {
   "codemirror_mode": {
    "name": "ipython",
    "version": 3
   },
   "file_extension": ".py",
   "mimetype": "text/x-python",
   "name": "python",
   "nbconvert_exporter": "python",
   "pygments_lexer": "ipython3",
   "version": "3.12.4"
  }
 },
 "nbformat": 4,
 "nbformat_minor": 5
}
